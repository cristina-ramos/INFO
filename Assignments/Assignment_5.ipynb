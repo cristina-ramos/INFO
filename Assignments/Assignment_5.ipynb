{
  "nbformat": 4,
  "nbformat_minor": 0,
  "metadata": {
    "colab": {
      "name": "Assignment_5.ipynb",
      "provenance": [],
      "authorship_tag": "ABX9TyOB1wAHJqfqfGkplesPE/AD",
      "include_colab_link": true
    },
    "kernelspec": {
      "name": "python3",
      "display_name": "Python 3"
    },
    "language_info": {
      "name": "python"
    }
  },
  "cells": [
    {
      "cell_type": "markdown",
      "metadata": {
        "id": "view-in-github",
        "colab_type": "text"
      },
      "source": [
        "<a href=\"https://colab.research.google.com/github/cristina-ramos/INFO/blob/main/Assignments/Assignment_5.ipynb\" target=\"_parent\"><img src=\"https://colab.research.google.com/assets/colab-badge.svg\" alt=\"Open In Colab\"/></a>"
      ]
    },
    {
      "cell_type": "code",
      "metadata": {
        "colab": {
          "base_uri": "https://localhost:8080/"
        },
        "id": "CgrmxgAZi6Gw",
        "outputId": "8b731b16-598e-4dfb-93c5-c5a07d45984e"
      },
      "source": [
        "!pip install gofer-grader"
      ],
      "execution_count": null,
      "outputs": [
        {
          "output_type": "stream",
          "text": [
            "Requirement already satisfied: gofer-grader in /usr/local/lib/python3.7/dist-packages (1.1.0)\n",
            "Requirement already satisfied: pygments in /usr/local/lib/python3.7/dist-packages (from gofer-grader) (2.6.1)\n",
            "Requirement already satisfied: jinja2 in /usr/local/lib/python3.7/dist-packages (from gofer-grader) (2.11.3)\n",
            "Requirement already satisfied: tornado in /usr/local/lib/python3.7/dist-packages (from gofer-grader) (5.1.1)\n",
            "Requirement already satisfied: MarkupSafe>=0.23 in /usr/local/lib/python3.7/dist-packages (from jinja2->gofer-grader) (1.1.1)\n"
          ],
          "name": "stdout"
        }
      ]
    },
    {
      "cell_type": "code",
      "metadata": {
        "id": "VBK3eGJnieGP"
      },
      "source": [
        "from datascience import *\n",
        "import pandas as pd\n",
        "import numpy as np\n",
        "%matplotlib inline\n",
        "import matplotlib.pyplot as plt\n",
        "plots.style.use('fivethirtyeight')\n",
        "from gofer.ok import check"
      ],
      "execution_count": null,
      "outputs": []
    },
    {
      "cell_type": "code",
      "metadata": {
        "id": "46iQD9XYvaF3"
      },
      "source": [
        "df = pd.read_csv('/content/crime_rates.csv')\n",
        "df1 = df[['State', 'Year', 'Population', 'Murder Rate']]"
      ],
      "execution_count": null,
      "outputs": []
    },
    {
      "cell_type": "code",
      "metadata": {
        "colab": {
          "base_uri": "https://localhost:8080/",
          "height": 388
        },
        "id": "YsmpS3YdjK1Z",
        "outputId": "601bec0d-9cf3-47f2-957d-eb87e884df92"
      },
      "source": [
        "murder_rates = Table.read_table('/content/crime_rates.csv').select('State', 'Year', 'Population', 'Murder Rate')\n",
        "murder_rates.set_format(\"Population\", NumberFormatter)"
      ],
      "execution_count": null,
      "outputs": [
        {
          "output_type": "execute_result",
          "data": {
            "text/html": [
              "<table border=\"1\" class=\"dataframe\">\n",
              "    <thead>\n",
              "        <tr>\n",
              "            <th>State</th> <th>Year</th> <th>Population</th> <th>Murder Rate</th>\n",
              "        </tr>\n",
              "    </thead>\n",
              "    <tbody>\n",
              "        <tr>\n",
              "            <td>Alaska</td> <td>1960</td> <td>226,167   </td> <td>10.2       </td>\n",
              "        </tr>\n",
              "        <tr>\n",
              "            <td>Alaska</td> <td>1961</td> <td>234,000   </td> <td>11.5       </td>\n",
              "        </tr>\n",
              "        <tr>\n",
              "            <td>Alaska</td> <td>1962</td> <td>246,000   </td> <td>4.5        </td>\n",
              "        </tr>\n",
              "        <tr>\n",
              "            <td>Alaska</td> <td>1963</td> <td>248,000   </td> <td>6.5        </td>\n",
              "        </tr>\n",
              "        <tr>\n",
              "            <td>Alaska</td> <td>1964</td> <td>250,000   </td> <td>10.4       </td>\n",
              "        </tr>\n",
              "        <tr>\n",
              "            <td>Alaska</td> <td>1965</td> <td>253,000   </td> <td>6.3        </td>\n",
              "        </tr>\n",
              "        <tr>\n",
              "            <td>Alaska</td> <td>1966</td> <td>272,000   </td> <td>12.9       </td>\n",
              "        </tr>\n",
              "        <tr>\n",
              "            <td>Alaska</td> <td>1967</td> <td>272,000   </td> <td>9.6        </td>\n",
              "        </tr>\n",
              "        <tr>\n",
              "            <td>Alaska</td> <td>1968</td> <td>277,000   </td> <td>10.5       </td>\n",
              "        </tr>\n",
              "        <tr>\n",
              "            <td>Alaska</td> <td>1969</td> <td>282,000   </td> <td>10.6       </td>\n",
              "        </tr>\n",
              "    </tbody>\n",
              "</table>\n",
              "<p>... (2190 rows omitted)</p>"
            ],
            "text/plain": [
              "State  | Year | Population | Murder Rate\n",
              "Alaska | 1960 | 226,167    | 10.2\n",
              "Alaska | 1961 | 234,000    | 11.5\n",
              "Alaska | 1962 | 246,000    | 4.5\n",
              "Alaska | 1963 | 248,000    | 6.5\n",
              "Alaska | 1964 | 250,000    | 10.4\n",
              "Alaska | 1965 | 253,000    | 6.3\n",
              "Alaska | 1966 | 272,000    | 12.9\n",
              "Alaska | 1967 | 272,000    | 9.6\n",
              "Alaska | 1968 | 277,000    | 10.5\n",
              "Alaska | 1969 | 282,000    | 10.6\n",
              "... (2190 rows omitted)"
            ]
          },
          "metadata": {
            "tags": []
          },
          "execution_count": 50
        }
      ]
    },
    {
      "cell_type": "code",
      "metadata": {
        "colab": {
          "base_uri": "https://localhost:8080/",
          "height": 388
        },
        "id": "EJpiq3pukF8y",
        "outputId": "2bd66da6-53bf-4f3b-af21-6f6f63169d27"
      },
      "source": [
        "#Alaska\n",
        "ak = murder_rates.where('State', 'Alaska').drop('State', 'Population').relabeled(1, 'Murder rate in Alaska')\n",
        "#Minnesota\n",
        "mn = murder_rates.where('State', 'Minnesota').drop('State', 'Population').relabeled(1, 'Murder rate in Minnesota')\n",
        "ak_mn = ak.join(\"Year\", mn)\n",
        "ak_mn"
      ],
      "execution_count": null,
      "outputs": [
        {
          "output_type": "execute_result",
          "data": {
            "text/html": [
              "<table border=\"1\" class=\"dataframe\">\n",
              "    <thead>\n",
              "        <tr>\n",
              "            <th>Year</th> <th>Murder rate in Alaska</th> <th>Murder rate in Minnesota</th>\n",
              "        </tr>\n",
              "    </thead>\n",
              "    <tbody>\n",
              "        <tr>\n",
              "            <td>1960</td> <td>10.2                 </td> <td>1.2                     </td>\n",
              "        </tr>\n",
              "        <tr>\n",
              "            <td>1961</td> <td>11.5                 </td> <td>1                       </td>\n",
              "        </tr>\n",
              "        <tr>\n",
              "            <td>1962</td> <td>4.5                  </td> <td>0.9                     </td>\n",
              "        </tr>\n",
              "        <tr>\n",
              "            <td>1963</td> <td>6.5                  </td> <td>1.2                     </td>\n",
              "        </tr>\n",
              "        <tr>\n",
              "            <td>1964</td> <td>10.4                 </td> <td>1.4                     </td>\n",
              "        </tr>\n",
              "        <tr>\n",
              "            <td>1965</td> <td>6.3                  </td> <td>1.4                     </td>\n",
              "        </tr>\n",
              "        <tr>\n",
              "            <td>1966</td> <td>12.9                 </td> <td>2.2                     </td>\n",
              "        </tr>\n",
              "        <tr>\n",
              "            <td>1967</td> <td>9.6                  </td> <td>1.6                     </td>\n",
              "        </tr>\n",
              "        <tr>\n",
              "            <td>1968</td> <td>10.5                 </td> <td>2.2                     </td>\n",
              "        </tr>\n",
              "        <tr>\n",
              "            <td>1969</td> <td>10.6                 </td> <td>1.9                     </td>\n",
              "        </tr>\n",
              "    </tbody>\n",
              "</table>\n",
              "<p>... (34 rows omitted)</p>"
            ],
            "text/plain": [
              "Year | Murder rate in Alaska | Murder rate in Minnesota\n",
              "1960 | 10.2                  | 1.2\n",
              "1961 | 11.5                  | 1\n",
              "1962 | 4.5                   | 0.9\n",
              "1963 | 6.5                   | 1.2\n",
              "1964 | 10.4                  | 1.4\n",
              "1965 | 6.3                   | 1.4\n",
              "1966 | 12.9                  | 2.2\n",
              "1967 | 9.6                   | 1.6\n",
              "1968 | 10.5                  | 2.2\n",
              "1969 | 10.6                  | 1.9\n",
              "... (34 rows omitted)"
            ]
          },
          "metadata": {
            "tags": []
          },
          "execution_count": 51
        }
      ]
    },
    {
      "cell_type": "code",
      "metadata": {
        "colab": {
          "base_uri": "https://localhost:8080/",
          "height": 304
        },
        "id": "3q3KnTQImZ3_",
        "outputId": "714ae1a8-503a-4bdf-bc5e-8b62656762bc"
      },
      "source": [
        "ak_mn.plot(\"Year\")"
      ],
      "execution_count": null,
      "outputs": [
        {
          "output_type": "display_data",
          "data": {
            "image/png": "[encoded data removed]",
            "text/plain": [
              "<Figure size 432x288 with 1 Axes>"
            ]
          },
          "metadata": {
            "tags": []
          }
        }
      ]
    },
    {
      "cell_type": "code",
      "metadata": {
        "colab": {
          "base_uri": "https://localhost:8080/",
          "height": 335
        },
        "id": "2dna7-97rO6w",
        "outputId": "8c692c72-e485-4f1c-bd7b-b6a38a371bf1"
      },
      "source": [
        "def most_murderous(year):\n",
        "  data_for_year = murder_rates.where(\"Year\", year)\n",
        "  sorted_data = data_for_year.sort(\"Murder Rate\", descending = True)\n",
        "  top_5 = sorted_data.take(np.arange(5)).sort(\"Murder Rate\")\n",
        "  top_5.barh('State', 'Murder Rate')\n",
        "  return top_5.column('State')\n",
        "\n",
        "  \n",
        "most_murderous(1990)"
      ],
      "execution_count": null,
      "outputs": [
        {
          "output_type": "execute_result",
          "data": {
            "text/plain": [
              "array(['California', 'Mississippi', 'Texas', 'New York', 'Louisiana'],\n",
              "      dtype='<U14')"
            ]
          },
          "metadata": {
            "tags": []
          },
          "execution_count": 53
        },
        {
          "output_type": "display_data",
          "data": {
            "image/png": "[encoded data removed]",
            "text/plain": [
              "<Figure size 432x288 with 1 Axes>"
            ]
          },
          "metadata": {
            "tags": []
          }
        }
      ]
    },
    {
      "cell_type": "code",
      "metadata": {
        "colab": {
          "base_uri": "https://localhost:8080/",
          "height": 388
        },
        "id": "SQt2_5Ynx8M2",
        "outputId": "1d15d1da-2f94-4338-f33c-330cd396a250"
      },
      "source": [
        "ca = murder_rates.where('State', are.equal_to('California'))\n",
        "ca"
      ],
      "execution_count": null,
      "outputs": [
        {
          "output_type": "execute_result",
          "data": {
            "text/html": [
              "<table border=\"1\" class=\"dataframe\">\n",
              "    <thead>\n",
              "        <tr>\n",
              "            <th>State</th> <th>Year</th> <th>Population</th> <th>Murder Rate</th>\n",
              "        </tr>\n",
              "    </thead>\n",
              "    <tbody>\n",
              "        <tr>\n",
              "            <td>California</td> <td>1960</td> <td>15,717,204</td> <td>3.9        </td>\n",
              "        </tr>\n",
              "        <tr>\n",
              "            <td>California</td> <td>1961</td> <td>16,397,000</td> <td>3.7        </td>\n",
              "        </tr>\n",
              "        <tr>\n",
              "            <td>California</td> <td>1962</td> <td>16,970,000</td> <td>3.9        </td>\n",
              "        </tr>\n",
              "        <tr>\n",
              "            <td>California</td> <td>1963</td> <td>17,590,000</td> <td>3.8        </td>\n",
              "        </tr>\n",
              "        <tr>\n",
              "            <td>California</td> <td>1964</td> <td>18,084,000</td> <td>4.1        </td>\n",
              "        </tr>\n",
              "        <tr>\n",
              "            <td>California</td> <td>1965</td> <td>18,602,000</td> <td>4.7        </td>\n",
              "        </tr>\n",
              "        <tr>\n",
              "            <td>California</td> <td>1966</td> <td>18,918,000</td> <td>4.6        </td>\n",
              "        </tr>\n",
              "        <tr>\n",
              "            <td>California</td> <td>1967</td> <td>19,153,000</td> <td>5.4        </td>\n",
              "        </tr>\n",
              "        <tr>\n",
              "            <td>California</td> <td>1968</td> <td>19,221,000</td> <td>6          </td>\n",
              "        </tr>\n",
              "        <tr>\n",
              "            <td>California</td> <td>1969</td> <td>19,443,000</td> <td>7.1        </td>\n",
              "        </tr>\n",
              "    </tbody>\n",
              "</table>\n",
              "<p>... (34 rows omitted)</p>"
            ],
            "text/plain": [
              "State      | Year | Population | Murder Rate\n",
              "California | 1960 | 15,717,204 | 3.9\n",
              "California | 1961 | 16,397,000 | 3.7\n",
              "California | 1962 | 16,970,000 | 3.9\n",
              "California | 1963 | 17,590,000 | 3.8\n",
              "California | 1964 | 18,084,000 | 4.1\n",
              "California | 1965 | 18,602,000 | 4.7\n",
              "California | 1966 | 18,918,000 | 4.6\n",
              "California | 1967 | 19,153,000 | 5.4\n",
              "California | 1968 | 19,221,000 | 6\n",
              "California | 1969 | 19,443,000 | 7.1\n",
              "... (34 rows omitted)"
            ]
          },
          "metadata": {
            "tags": []
          },
          "execution_count": 54
        }
      ]
    },
    {
      "cell_type": "code",
      "metadata": {
        "colab": {
          "base_uri": "https://localhost:8080/"
        },
        "id": "a9V0sspYyIFE",
        "outputId": "656457be-8016-42cf-ca23-010a75fe553c"
      },
      "source": [
        "ca_change = (ca.where('Year', 1988).column(3).item(0)*ca.where('Year', 1988).column(2).item(0)-ca.where('Year', 1975).column(3).item(0)*ca.where('Year', 1975).column(2).item(0))/100000\n",
        "np.round(ca_change)"
      ],
      "execution_count": null,
      "outputs": [
        {
          "output_type": "execute_result",
          "data": {
            "text/plain": [
              "726.0"
            ]
          },
          "metadata": {
            "tags": []
          },
          "execution_count": 81
        }
      ]
    },
    {
      "cell_type": "code",
      "metadata": {
        "colab": {
          "base_uri": "https://localhost:8080/"
        },
        "id": "CFJ0Pkic0DlN",
        "outputId": "15a6a01b-254e-48bb-e381-0408442879e9"
      },
      "source": [
        "def diff_n(values, n):\n",
        "  return np.array(values)[n:] - np.array(values)[:-n]\n",
        "\n",
        "diff_n(make_array(1, 10, 100, 1000, 10000), 2)"
      ],
      "execution_count": null,
      "outputs": [
        {
          "output_type": "execute_result",
          "data": {
            "text/plain": [
              "array([  99,  990, 9900])"
            ]
          },
          "metadata": {
            "tags": []
          },
          "execution_count": 56
        }
      ]
    },
    {
      "cell_type": "code",
      "metadata": {
        "colab": {
          "base_uri": "https://localhost:8080/"
        },
        "id": "XaclMTHvy3Gx",
        "outputId": "50117b14-eeb9-4e54-ab4a-67064cbdbda1"
      },
      "source": [
        "def twoyear_changes(rates):\n",
        "  return np.count_nonzero(diff_n(rates, 2)>0) - np.count_nonzero(diff_n(rates, 2)<0)\n",
        "\n",
        "print('Alaska:',  twoyear_changes(ak.column('Murder rate in Alaska')))\n",
        "print('Minnesota:',  twoyear_changes(mn.column('Murder rate in Minnesota')))"
      ],
      "execution_count": null,
      "outputs": [
        {
          "output_type": "stream",
          "text": [
            "Alaska: -5\n",
            "Minnesota: 6\n"
          ],
          "name": "stdout"
        }
      ]
    },
    {
      "cell_type": "code",
      "metadata": {
        "colab": {
          "base_uri": "https://localhost:8080/",
          "height": 388
        },
        "id": "uomoP-yq0nq2",
        "outputId": "6372487f-4a15-40d2-de5d-9c397ce4998b"
      },
      "source": [
        "states = murder_rates.sort(\"State\", distinct=True).column(0)\n",
        "change = make_array()\n",
        "for i in np.arange(len(states)):\n",
        "  c = twoyear_changes(murder_rates.where(\"State\", states[i]).column(3))\n",
        "  change = np.append(change, c)\n",
        "\n",
        "changes_by_state = Table().with_columns('State', states, 'Murder Rate twoyear_changes', change)\n",
        "changes_by_state"
      ],
      "execution_count": null,
      "outputs": [
        {
          "output_type": "execute_result",
          "data": {
            "text/html": [
              "<table border=\"1\" class=\"dataframe\">\n",
              "    <thead>\n",
              "        <tr>\n",
              "            <th>State</th> <th>Murder Rate twoyear_changes</th>\n",
              "        </tr>\n",
              "    </thead>\n",
              "    <tbody>\n",
              "        <tr>\n",
              "            <td>Alabama    </td> <td>-6                         </td>\n",
              "        </tr>\n",
              "        <tr>\n",
              "            <td>Alaska     </td> <td>-5                         </td>\n",
              "        </tr>\n",
              "        <tr>\n",
              "            <td>Arizona    </td> <td>1                          </td>\n",
              "        </tr>\n",
              "        <tr>\n",
              "            <td>Arkansas   </td> <td>-1                         </td>\n",
              "        </tr>\n",
              "        <tr>\n",
              "            <td>California </td> <td>17                         </td>\n",
              "        </tr>\n",
              "        <tr>\n",
              "            <td>Colorado   </td> <td>-4                         </td>\n",
              "        </tr>\n",
              "        <tr>\n",
              "            <td>Connecticut</td> <td>4                          </td>\n",
              "        </tr>\n",
              "        <tr>\n",
              "            <td>Delaware   </td> <td>-3                         </td>\n",
              "        </tr>\n",
              "        <tr>\n",
              "            <td>Florida    </td> <td>-6                         </td>\n",
              "        </tr>\n",
              "        <tr>\n",
              "            <td>Georgia    </td> <td>-3                         </td>\n",
              "        </tr>\n",
              "    </tbody>\n",
              "</table>\n",
              "<p>... (40 rows omitted)</p>"
            ],
            "text/plain": [
              "State       | Murder Rate twoyear_changes\n",
              "Alabama     | -6\n",
              "Alaska      | -5\n",
              "Arizona     | 1\n",
              "Arkansas    | -1\n",
              "California  | 17\n",
              "Colorado    | -4\n",
              "Connecticut | 4\n",
              "Delaware    | -3\n",
              "Florida     | -6\n",
              "Georgia     | -3\n",
              "... (40 rows omitted)"
            ]
          },
          "metadata": {
            "tags": []
          },
          "execution_count": 58
        }
      ]
    },
    {
      "cell_type": "code",
      "metadata": {
        "colab": {
          "base_uri": "https://localhost:8080/"
        },
        "id": "JZFWctp81sUD",
        "outputId": "68131c84-8eb7-4c5b-b99b-1dedbd95cb88"
      },
      "source": [
        "total_changes = sum(change)\n",
        "print(\"Total Changes Across All States and Years:\", total_changes)"
      ],
      "execution_count": null,
      "outputs": [
        {
          "output_type": "stream",
          "text": [
            "Total Changes Across All States and Years: 45.0\n"
          ],
          "name": "stdout"
        }
      ]
    },
    {
      "cell_type": "code",
      "metadata": {
        "colab": {
          "base_uri": "https://localhost:8080/"
        },
        "id": "sHZJeamy16N8",
        "outputId": "e4a59a6c-9f22-4727-e03d-1774273cd6ca"
      },
      "source": [
        "pds = make_array()\n",
        "for i in np.arange(len(states)):\n",
        "  pd = murder_rates.where(\"State\", states[i]).num_rows-2\n",
        "  pds = np.append(pds, pd)\n",
        "\n",
        "num_changes = sum(pds)\n",
        "num_changes"
      ],
      "execution_count": null,
      "outputs": [
        {
          "output_type": "execute_result",
          "data": {
            "text/plain": [
              "2100.0"
            ]
          },
          "metadata": {
            "tags": []
          },
          "execution_count": 61
        }
      ]
    },
    {
      "cell_type": "code",
      "metadata": {
        "colab": {
          "base_uri": "https://localhost:8080/",
          "height": 111
        },
        "id": "EBa9TLCp2yDH",
        "outputId": "67152a63-10d0-4d44-ecce-36bfb55a1558"
      },
      "source": [
        "uniform = Table().with_columns(\n",
        " \"Change\", make_array('Increase', 'Decrease'),\n",
        " \"Chance\", make_array(0.5, 0.5))\n",
        "uniform.sample_from_distribution('Chance', 100)"
      ],
      "execution_count": null,
      "outputs": [
        {
          "output_type": "execute_result",
          "data": {
            "text/html": [
              "<table border=\"1\" class=\"dataframe\">\n",
              "    <thead>\n",
              "        <tr>\n",
              "            <th>Change</th> <th>Chance</th> <th>Chance sample</th>\n",
              "        </tr>\n",
              "    </thead>\n",
              "    <tbody>\n",
              "        <tr>\n",
              "            <td>Increase</td> <td>0.5   </td> <td>54           </td>\n",
              "        </tr>\n",
              "        <tr>\n",
              "            <td>Decrease</td> <td>0.5   </td> <td>46           </td>\n",
              "        </tr>\n",
              "    </tbody>\n",
              "</table>"
            ],
            "text/plain": [
              "Change   | Chance | Chance sample\n",
              "Increase | 0.5    | 54\n",
              "Decrease | 0.5    | 46"
            ]
          },
          "metadata": {
            "tags": []
          },
          "execution_count": 62
        }
      ]
    },
    {
      "cell_type": "code",
      "metadata": {
        "colab": {
          "base_uri": "https://localhost:8080/",
          "height": 388
        },
        "id": "4eDb9Ts02Wky",
        "outputId": "ee5b7b4e-3bd1-4891-aae6-23255ad717cf"
      },
      "source": [
        "def simulate_under_null(num_chances_to_change):\n",
        "  return uniform.sample_from_distribution('Chance', 100).column(2).item(0)-uniform.sample_from_distribution('Chance', 100).column(2).item(1)\n",
        "\n",
        "uniform_samples = make_array()\n",
        "for i in np.arange(5000):\n",
        "  uniform_samples = np.append(uniform_samples, simulate_under_null(...))\n",
        "\n",
        "simulated_changes = Table().with_column('Test statistic under null', uniform_samples)\n",
        "simulated_changes"
      ],
      "execution_count": null,
      "outputs": [
        {
          "output_type": "execute_result",
          "data": {
            "text/html": [
              "<table border=\"1\" class=\"dataframe\">\n",
              "    <thead>\n",
              "        <tr>\n",
              "            <th>Test statistic under null</th>\n",
              "        </tr>\n",
              "    </thead>\n",
              "    <tbody>\n",
              "        <tr>\n",
              "            <td>-1                       </td>\n",
              "        </tr>\n",
              "        <tr>\n",
              "            <td>2                        </td>\n",
              "        </tr>\n",
              "        <tr>\n",
              "            <td>12                       </td>\n",
              "        </tr>\n",
              "        <tr>\n",
              "            <td>-3                       </td>\n",
              "        </tr>\n",
              "        <tr>\n",
              "            <td>4                        </td>\n",
              "        </tr>\n",
              "        <tr>\n",
              "            <td>-3                       </td>\n",
              "        </tr>\n",
              "        <tr>\n",
              "            <td>0                        </td>\n",
              "        </tr>\n",
              "        <tr>\n",
              "            <td>4                        </td>\n",
              "        </tr>\n",
              "        <tr>\n",
              "            <td>10                       </td>\n",
              "        </tr>\n",
              "        <tr>\n",
              "            <td>3                        </td>\n",
              "        </tr>\n",
              "    </tbody>\n",
              "</table>\n",
              "<p>... (4990 rows omitted)</p>"
            ],
            "text/plain": [
              "Test statistic under null\n",
              "-1\n",
              "2\n",
              "12\n",
              "-3\n",
              "4\n",
              "-3\n",
              "0\n",
              "4\n",
              "10\n",
              "3\n",
              "... (4990 rows omitted)"
            ]
          },
          "metadata": {
            "tags": []
          },
          "execution_count": 63
        }
      ]
    },
    {
      "cell_type": "code",
      "metadata": {
        "colab": {
          "base_uri": "https://localhost:8080/",
          "height": 301
        },
        "id": "TSgiNb_j28Sn",
        "outputId": "4b06f39c-5cbe-4d7a-bd64-b339b5b1011c"
      },
      "source": [
        "simulated_changes.hist(0, bins=np.arange(-100, 400+25, 25))"
      ],
      "execution_count": null,
      "outputs": [
        {
          "output_type": "display_data",
          "data": {
            "image/png": "[encoded data removed]",
            "text/plain": [
              "<Figure size 432x288 with 1 Axes>"
            ]
          },
          "metadata": {
            "tags": []
          }
        }
      ]
    },
    {
      "cell_type": "code",
      "metadata": {
        "colab": {
          "base_uri": "https://localhost:8080/",
          "height": 388
        },
        "id": "IejWT_jb3ErN",
        "outputId": "b916528d-2e78-4573-c518-afa62475e983"
      },
      "source": [
        "non_death_penalty_states = make_array('Alaska', 'Hawaii', 'Maine', 'Michigan', 'Wisconsin', 'Minnesota')\n",
        "\n",
        "def death_penalty_1971(state):\n",
        "  return state not in non_death_penalty_states\n",
        "\n",
        "states = murder_rates.group('State').select('State')\n",
        "death_penalty = states.with_column('Death Penalty', states.apply(death_penalty_1971, 0))\n",
        "death_penalty"
      ],
      "execution_count": null,
      "outputs": [
        {
          "output_type": "execute_result",
          "data": {
            "text/html": [
              "<table border=\"1\" class=\"dataframe\">\n",
              "    <thead>\n",
              "        <tr>\n",
              "            <th>State</th> <th>Death Penalty</th>\n",
              "        </tr>\n",
              "    </thead>\n",
              "    <tbody>\n",
              "        <tr>\n",
              "            <td>Alabama    </td> <td>True         </td>\n",
              "        </tr>\n",
              "        <tr>\n",
              "            <td>Alaska     </td> <td>False        </td>\n",
              "        </tr>\n",
              "        <tr>\n",
              "            <td>Arizona    </td> <td>True         </td>\n",
              "        </tr>\n",
              "        <tr>\n",
              "            <td>Arkansas   </td> <td>True         </td>\n",
              "        </tr>\n",
              "        <tr>\n",
              "            <td>California </td> <td>True         </td>\n",
              "        </tr>\n",
              "        <tr>\n",
              "            <td>Colorado   </td> <td>True         </td>\n",
              "        </tr>\n",
              "        <tr>\n",
              "            <td>Connecticut</td> <td>True         </td>\n",
              "        </tr>\n",
              "        <tr>\n",
              "            <td>Delaware   </td> <td>True         </td>\n",
              "        </tr>\n",
              "        <tr>\n",
              "            <td>Florida    </td> <td>True         </td>\n",
              "        </tr>\n",
              "        <tr>\n",
              "            <td>Georgia    </td> <td>True         </td>\n",
              "        </tr>\n",
              "    </tbody>\n",
              "</table>\n",
              "<p>... (40 rows omitted)</p>"
            ],
            "text/plain": [
              "State       | Death Penalty\n",
              "Alabama     | True\n",
              "Alaska      | False\n",
              "Arizona     | True\n",
              "Arkansas    | True\n",
              "California  | True\n",
              "Colorado    | True\n",
              "Connecticut | True\n",
              "Delaware    | True\n",
              "Florida     | True\n",
              "Georgia     | True\n",
              "... (40 rows omitted)"
            ]
          },
          "metadata": {
            "tags": []
          },
          "execution_count": 66
        }
      ]
    },
    {
      "cell_type": "code",
      "metadata": {
        "colab": {
          "base_uri": "https://localhost:8080/",
          "height": 388
        },
        "id": "rh2oUTQoDtIM",
        "outputId": "856c2d4d-e615-4fd5-e602-0efead943f45"
      },
      "source": [
        "death_penalty_states = death_penalty.where('Death Penalty', True).column(0)\n",
        "death_penalty_murder_rates = murder_rates.where('State', are.contained_in(death_penalty_states))\n",
        "death_penalty_murder_rates"
      ],
      "execution_count": null,
      "outputs": [
        {
          "output_type": "execute_result",
          "data": {
            "text/html": [
              "<table border=\"1\" class=\"dataframe\">\n",
              "    <thead>\n",
              "        <tr>\n",
              "            <th>State</th> <th>Year</th> <th>Population</th> <th>Murder Rate</th>\n",
              "        </tr>\n",
              "    </thead>\n",
              "    <tbody>\n",
              "        <tr>\n",
              "            <td>Alabama</td> <td>1960</td> <td>3,266,740 </td> <td>12.4       </td>\n",
              "        </tr>\n",
              "        <tr>\n",
              "            <td>Alabama</td> <td>1961</td> <td>3,302,000 </td> <td>12.9       </td>\n",
              "        </tr>\n",
              "        <tr>\n",
              "            <td>Alabama</td> <td>1962</td> <td>3,358,000 </td> <td>9.4        </td>\n",
              "        </tr>\n",
              "        <tr>\n",
              "            <td>Alabama</td> <td>1963</td> <td>3,347,000 </td> <td>10.2       </td>\n",
              "        </tr>\n",
              "        <tr>\n",
              "            <td>Alabama</td> <td>1964</td> <td>3,407,000 </td> <td>9.3        </td>\n",
              "        </tr>\n",
              "        <tr>\n",
              "            <td>Alabama</td> <td>1965</td> <td>3,462,000 </td> <td>11.4       </td>\n",
              "        </tr>\n",
              "        <tr>\n",
              "            <td>Alabama</td> <td>1966</td> <td>3,517,000 </td> <td>10.9       </td>\n",
              "        </tr>\n",
              "        <tr>\n",
              "            <td>Alabama</td> <td>1967</td> <td>3,540,000 </td> <td>11.7       </td>\n",
              "        </tr>\n",
              "        <tr>\n",
              "            <td>Alabama</td> <td>1968</td> <td>3,566,000 </td> <td>11.8       </td>\n",
              "        </tr>\n",
              "        <tr>\n",
              "            <td>Alabama</td> <td>1969</td> <td>3,531,000 </td> <td>13.7       </td>\n",
              "        </tr>\n",
              "    </tbody>\n",
              "</table>\n",
              "<p>... (1926 rows omitted)</p>"
            ],
            "text/plain": [
              "State   | Year | Population | Murder Rate\n",
              "Alabama | 1960 | 3,266,740  | 12.4\n",
              "Alabama | 1961 | 3,302,000  | 12.9\n",
              "Alabama | 1962 | 3,358,000  | 9.4\n",
              "Alabama | 1963 | 3,347,000  | 10.2\n",
              "Alabama | 1964 | 3,407,000  | 9.3\n",
              "Alabama | 1965 | 3,462,000  | 11.4\n",
              "Alabama | 1966 | 3,517,000  | 10.9\n",
              "Alabama | 1967 | 3,540,000  | 11.7\n",
              "Alabama | 1968 | 3,566,000  | 11.8\n",
              "Alabama | 1969 | 3,531,000  | 13.7\n",
              "... (1926 rows omitted)"
            ]
          },
          "metadata": {
            "tags": []
          },
          "execution_count": 74
        }
      ]
    },
    {
      "cell_type": "code",
      "metadata": {
        "colab": {
          "base_uri": "https://localhost:8080/"
        },
        "id": "om_lvxNCKzT9",
        "outputId": "78ea270e-a9c9-498a-9091-3da5762b9162"
      },
      "source": [
        "t = death_penalty_murder_rates.where('Year', are.between(1971,1974))\n",
        "states = t.sort('State', distinct = True).column(0)\n",
        "stats = make_array()\n",
        "for i in np.arange(len(states)):\n",
        "  s = diff_n(t.where('State',states[i]).column(3), 2)\n",
        "  stats = np.append(stats,s)\n",
        "\n",
        "changes_72 = np.count_nonzero(stats>0)- np.count_nonzero(stats<0)\n",
        "print('Test statistic from 1971 to 1973:', changes_72)"
      ],
      "execution_count": null,
      "outputs": [
        {
          "output_type": "stream",
          "text": [
            "Test statistic from 1971 to 1973: 22\n"
          ],
          "name": "stdout"
        }
      ]
    },
    {
      "cell_type": "code",
      "metadata": {
        "colab": {
          "base_uri": "https://localhost:8080/",
          "height": 305
        },
        "id": "1BemMD2GLYZP",
        "outputId": "4e78d37b-291c-443d-c9a4-fd964ffc3c3d"
      },
      "source": [
        "samples = make_array()\n",
        "for i in np.arange(10000):\n",
        "  sample = simulate_under_null(len(states))\n",
        "  samples = np.append(samples, sample)\n",
        "\n",
        "Table().with_column('Test statistics under null', samples).hist(bins=np.arange(-4, 28+2, 2))"
      ],
      "execution_count": null,
      "outputs": [
        {
          "output_type": "display_data",
          "data": {
            "image/png": "[encoded data removed]",
            "text/plain": [
              "<Figure size 432x288 with 1 Axes>"
            ]
          },
          "metadata": {
            "tags": []
          }
        }
      ]
    },
    {
      "cell_type": "code",
      "metadata": {
        "colab": {
          "base_uri": "https://localhost:8080/"
        },
        "id": "qE4fBo4UL6YB",
        "outputId": "2c72cfae-e186-46b1-f78c-565c0f6b9d53"
      },
      "source": [
        "p = np.count_nonzero(samples>=test_stat_72)/10000\n",
        "p"
      ],
      "execution_count": null,
      "outputs": [
        {
          "output_type": "execute_result",
          "data": {
            "text/plain": [
              "0.0009"
            ]
          },
          "metadata": {
            "tags": []
          },
          "execution_count": 80
        }
      ]
    },
    {
      "cell_type": "code",
      "metadata": {
        "colab": {
          "base_uri": "https://localhost:8080/"
        },
        "id": "zP0_rad7bNHn",
        "outputId": "adc395fe-4bf5-459c-e5c5-a4d560c401d7"
      },
      "source": [
        "def run_test(rates, start_year):\n",
        "  end_year = start_year + 2\n",
        "  observed_test_statistic = sum(rates.where('Year', are.between_or_equal_to(start_year, end_year)).select('State', 'Murder Rate').group('State', twoyear_changes).column(1))\n",
        "  print('Test statistic', start_year, 'to', end_year, ':', observed_test_statistic)\n",
        "  num_states = rates.group('State').num_rows\n",
        "\n",
        "  samples = []\n",
        "  for i in np.arange(5000):\n",
        "    sample = simulate_under_null(num_states)\n",
        "    samples = np.append(samples, sample)\n",
        "\n",
        "  if observed_test_statistic > 0:\n",
        "    return sum(samples >= observed_test_statistic) / len(samples)\n",
        "  elif observed_test_statistic < 0:\n",
        "    return sum(samples <= observed_test_statistic) / len(samples)\n",
        "\n",
        "run_test(death_penalty_murder_rates, 1971)"
      ],
      "execution_count": null,
      "outputs": [
        {
          "output_type": "stream",
          "text": [
            "Test statistic 1971 to 1973 : 22\n"
          ],
          "name": "stdout"
        },
        {
          "output_type": "execute_result",
          "data": {
            "text/plain": [
              "0.0012"
            ]
          },
          "metadata": {
            "tags": []
          },
          "execution_count": 92
        }
      ]
    },
    {
      "cell_type": "code",
      "metadata": {
        "colab": {
          "base_uri": "https://localhost:8080/",
          "height": 388
        },
        "id": "J3nDCmgkgUE2",
        "outputId": "71034c7f-2448-435b-9556-68b2b4a3f16f"
      },
      "source": [
        "years = murder_rates.sort('Year', distinct=True).column('Year')\n",
        "death = murder_rates.where('State', are.contained_in(states)).group('Year', np.mean).column(3)\n",
        "no_death = murder_rates.where('State', are.contained_in(non_death_penalty_states)).group('Year', np.mean).column(3)\n",
        "average_murder_rates = Table().with_columns('Year', years, 'Death penalty states', death, 'No death penalty states', no_death)\n",
        "average_murder_rates"
      ],
      "execution_count": null,
      "outputs": [
        {
          "output_type": "execute_result",
          "data": {
            "text/html": [
              "<table border=\"1\" class=\"dataframe\">\n",
              "    <thead>\n",
              "        <tr>\n",
              "            <th>Year</th> <th>Death penalty states</th> <th>No death penalty states</th>\n",
              "        </tr>\n",
              "    </thead>\n",
              "    <tbody>\n",
              "        <tr>\n",
              "            <td>1960</td> <td>5.27955             </td> <td>3.55                   </td>\n",
              "        </tr>\n",
              "        <tr>\n",
              "            <td>1961</td> <td>4.77727             </td> <td>3.68333                </td>\n",
              "        </tr>\n",
              "        <tr>\n",
              "            <td>1962</td> <td>4.61591             </td> <td>2.33333                </td>\n",
              "        </tr>\n",
              "        <tr>\n",
              "            <td>1963</td> <td>4.61364             </td> <td>2.75                   </td>\n",
              "        </tr>\n",
              "        <tr>\n",
              "            <td>1964</td> <td>4.71136             </td> <td>3.4                    </td>\n",
              "        </tr>\n",
              "        <tr>\n",
              "            <td>1965</td> <td>4.82727             </td> <td>3.18333                </td>\n",
              "        </tr>\n",
              "        <tr>\n",
              "            <td>1966</td> <td>5.43182             </td> <td>4.51667                </td>\n",
              "        </tr>\n",
              "        <tr>\n",
              "            <td>1967</td> <td>5.875               </td> <td>3.73333                </td>\n",
              "        </tr>\n",
              "        <tr>\n",
              "            <td>1968</td> <td>6.27045             </td> <td>4.73333                </td>\n",
              "        </tr>\n",
              "        <tr>\n",
              "            <td>1969</td> <td>6.50227             </td> <td>4.73333                </td>\n",
              "        </tr>\n",
              "    </tbody>\n",
              "</table>\n",
              "<p>... (34 rows omitted)</p>"
            ],
            "text/plain": [
              "Year | Death penalty states | No death penalty states\n",
              "1960 | 5.27955              | 3.55\n",
              "1961 | 4.77727              | 3.68333\n",
              "1962 | 4.61591              | 2.33333\n",
              "1963 | 4.61364              | 2.75\n",
              "1964 | 4.71136              | 3.4\n",
              "1965 | 4.82727              | 3.18333\n",
              "1966 | 5.43182              | 4.51667\n",
              "1967 | 5.875                | 3.73333\n",
              "1968 | 6.27045              | 4.73333\n",
              "1969 | 6.50227              | 4.73333\n",
              "... (34 rows omitted)"
            ]
          },
          "metadata": {
            "tags": []
          },
          "execution_count": 93
        }
      ]
    },
    {
      "cell_type": "code",
      "metadata": {
        "id": "Vj8anKoUkIJB",
        "colab": {
          "base_uri": "https://localhost:8080/",
          "height": 304
        },
        "outputId": "d21c533f-d81f-459c-b983-993ddc74258b"
      },
      "source": [
        "average_murder_rates.plot('Year')"
      ],
      "execution_count": null,
      "outputs": [
        {
          "output_type": "display_data",
          "data": {
            "image/png": "[encoded data removed]",
            "text/plain": [
              "<Figure size 432x288 with 1 Axes>"
            ]
          },
          "metadata": {
            "tags": []
          }
        }
      ]
    }
  ]
}