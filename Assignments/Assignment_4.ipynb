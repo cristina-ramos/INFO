{
  "nbformat": 4,
  "nbformat_minor": 0,
  "metadata": {
    "colab": {
      "name": "Assignment_4.ipynb",
      "provenance": [],
      "collapsed_sections": [],
      "authorship_tag": "ABX9TyP7CQEZqbLxK3DsVRyW9rNw",
      "include_colab_link": true
    },
    "kernelspec": {
      "name": "python3",
      "display_name": "Python 3"
    }
  },
  "cells": [
    {
      "cell_type": "markdown",
      "metadata": {
        "id": "view-in-github",
        "colab_type": "text"
      },
      "source": [
        "<a href=\"https://colab.research.google.com/github/cristina-ramos/INFO/blob/main/Assignments/Assignment_4.ipynb\" target=\"_parent\"><img src=\"https://colab.research.google.com/assets/colab-badge.svg\" alt=\"Open In Colab\"/></a>"
      ]
    },
    {
      "cell_type": "code",
      "metadata": {
        "id": "IwEzTa18cA2n"
      },
      "source": [
        "import pandas as pd\n",
        "import statistics\n",
        "import matplotlib.pyplot as plt\n",
        "import numpy as np"
      ],
      "execution_count": null,
      "outputs": []
    },
    {
      "cell_type": "code",
      "metadata": {
        "colab": {
          "base_uri": "https://localhost:8080/"
        },
        "id": "Nth6EVq6c-pq",
        "outputId": "7b03b41c-bf50-4541-a795-2a8cd5455052"
      },
      "source": [
        "excel = pd.read_csv(r'/content/multipleChoiceResponses.csv',low_memory=False)\n",
        "median = []\n",
        "gender = []\n",
        "excel = excel[excel['Q1']!='Prefer to self-describe']\n",
        "excel = excel[excel['Q1']!='Prefer not to say']\n",
        "excel = excel[excel['Q9']!='What is your current yearly compensation (approximate $USD)?']\n",
        "excel = excel[excel['Q9'].notnull()]\n",
        "excel = excel[excel['Q9']!= 'I do not wish to disclose my approximate yearly compensation']\n",
        "order = {'Male': 'Male', 'Female': 'Female'}\n",
        "dic = {'0-10,000': 5000, '10-20,000': 15000, '20-30,000': 25000, '30-40,000': 35000, '40-50,000': 45000, '50-60,000': 55000, \n",
        "       '60-70,000': 65000, '70-80,000': 75000, '80-90,000': 85000, '90-100,000': 95000, '100-125,000': 112500, '125-150,000': 137500,\n",
        "       '150-200,000': 175000, '200-250,000': 225000, '250-300,000': 275000, '300-400,000': 350000, '400-500,000': 450000, '500,000+' : 500000}\n",
        "excel['gender']= excel['Q1'].apply(lambda x:order[x])\n",
        "excel['median']= excel['Q9'].apply(lambda x: dic[x])\n",
        "Female = excel[excel[\"gender\"] == \"Female\"]\n",
        "Male = excel[excel[\"gender\"] == \"Male\"]\n",
        "print(\"Female median value is:\")\n",
        "print(statistics.median(Female[\"median\"]))\n",
        "print(\"Male median value is:\")\n",
        "print(statistics.median(Male[\"median\"]))"
      ],
      "execution_count": null,
      "outputs": [
        {
          "output_type": "stream",
          "text": [
            "Female median value is:\n",
            "25000.0\n",
            "Male median value is:\n",
            "35000.0\n"
          ],
          "name": "stdout"
        }
      ]
    },
    {
      "cell_type": "code",
      "metadata": {
        "colab": {
          "base_uri": "https://localhost:8080/",
          "height": 281
        },
        "id": "OhtXzE7JgzB_",
        "outputId": "76d8e540-1b9a-44e0-c232-3c96ca144d68"
      },
      "source": [
        "data = {'gender':excel['gender'],'median':excel['median']}\n",
        "FeMaSa = pd.DataFrame(data)\n",
        "FeMaSa.to_csv(\"gender_salaries.csv\", index=False)\n",
        "\n",
        "plt.hist(excel[excel['gender']=='Male']['median'], bins=20, alpha=0.5, color='blue', label='Male')\n",
        "plt.hist(excel[excel['gender']=='Female']['median'], bins=20, alpha=0.5, color='green', label='Female')\n",
        "plt.title('Histograms displaying income graphs of Male and Female employees')\n",
        "plt.legend()\n",
        "plt.show()"
      ],
      "execution_count": null,
      "outputs": [
        {
          "output_type": "display_data",
          "data": {
            "image/png": "[encoded data removed]",
            "text/plain": [
              "<Figure size 432x288 with 1 Axes>"
            ]
          },
          "metadata": {
            "tags": [],
            "needs_background": "light"
          }
        }
      ]
    },
    {
      "cell_type": "code",
      "metadata": {
        "colab": {
          "base_uri": "https://localhost:8080/",
          "height": 419
        },
        "id": "2NxP89MHjJ7-",
        "outputId": "fd84b7b7-9d2d-4c60-f755-66bbeb535ad4"
      },
      "source": [
        "b=pd.notnull(excel['Q9'])\n",
        "c = excel[b]\n",
        "cleaning = c[(c.Q1 != 'Prefer not to say') & (c.Q1 != 'Prefer to self-describe') & (c.Q9 != 'I do not wish to disclose my approximate yearly compensation')]\n",
        "clean_data = cleaning[['Q1', 'Q9']][1:]\n",
        "split = clean_data['Q9'].str.split('-').str[1]\n",
        "first = split.str.split(',').str[0]\n",
        "second = split.str.split(',').str[1]\n",
        "clean_data['data']= first+second\n",
        "m_index = clean_data[clean_data['Q1']=='Male'].index\n",
        "m_samples = np.random.choice(m_index, 250, replace=False)\n",
        "male = clean_data.loc[m_samples]\n",
        "f_index = clean_data[clean_data['Q1']=='Female'].index\n",
        "f_samples = np.random.choice(f_index, 250, replace=False)\n",
        "female = clean_data.loc[f_samples]\n",
        "final_samples = pd.concat([male, female], axis=0)\n",
        "final_samples"
      ],
      "execution_count": null,
      "outputs": [
        {
          "output_type": "execute_result",
          "data": {
            "text/html": [
              "<div>\n",
              "<style scoped>\n",
              "    .dataframe tbody tr th:only-of-type {\n",
              "        vertical-align: middle;\n",
              "    }\n",
              "\n",
              "    .dataframe tbody tr th {\n",
              "        vertical-align: top;\n",
              "    }\n",
              "\n",
              "    .dataframe thead th {\n",
              "        text-align: right;\n",
              "    }\n",
              "</style>\n",
              "<table border=\"1\" class=\"dataframe\">\n",
              "  <thead>\n",
              "    <tr style=\"text-align: right;\">\n",
              "      <th></th>\n",
              "      <th>Q1</th>\n",
              "      <th>Q9</th>\n",
              "      <th>data</th>\n",
              "    </tr>\n",
              "  </thead>\n",
              "  <tbody>\n",
              "    <tr>\n",
              "      <th>2518</th>\n",
              "      <td>Male</td>\n",
              "      <td>10-20,000</td>\n",
              "      <td>20000</td>\n",
              "    </tr>\n",
              "    <tr>\n",
              "      <th>15734</th>\n",
              "      <td>Male</td>\n",
              "      <td>125-150,000</td>\n",
              "      <td>150000</td>\n",
              "    </tr>\n",
              "    <tr>\n",
              "      <th>429</th>\n",
              "      <td>Male</td>\n",
              "      <td>20-30,000</td>\n",
              "      <td>30000</td>\n",
              "    </tr>\n",
              "    <tr>\n",
              "      <th>13034</th>\n",
              "      <td>Male</td>\n",
              "      <td>10-20,000</td>\n",
              "      <td>20000</td>\n",
              "    </tr>\n",
              "    <tr>\n",
              "      <th>6568</th>\n",
              "      <td>Male</td>\n",
              "      <td>100-125,000</td>\n",
              "      <td>125000</td>\n",
              "    </tr>\n",
              "    <tr>\n",
              "      <th>...</th>\n",
              "      <td>...</td>\n",
              "      <td>...</td>\n",
              "      <td>...</td>\n",
              "    </tr>\n",
              "    <tr>\n",
              "      <th>18096</th>\n",
              "      <td>Female</td>\n",
              "      <td>0-10,000</td>\n",
              "      <td>10000</td>\n",
              "    </tr>\n",
              "    <tr>\n",
              "      <th>20664</th>\n",
              "      <td>Female</td>\n",
              "      <td>20-30,000</td>\n",
              "      <td>30000</td>\n",
              "    </tr>\n",
              "    <tr>\n",
              "      <th>14649</th>\n",
              "      <td>Female</td>\n",
              "      <td>0-10,000</td>\n",
              "      <td>10000</td>\n",
              "    </tr>\n",
              "    <tr>\n",
              "      <th>22041</th>\n",
              "      <td>Female</td>\n",
              "      <td>40-50,000</td>\n",
              "      <td>50000</td>\n",
              "    </tr>\n",
              "    <tr>\n",
              "      <th>12552</th>\n",
              "      <td>Female</td>\n",
              "      <td>0-10,000</td>\n",
              "      <td>10000</td>\n",
              "    </tr>\n",
              "  </tbody>\n",
              "</table>\n",
              "<p>500 rows × 3 columns</p>\n",
              "</div>"
            ],
            "text/plain": [
              "           Q1           Q9    data\n",
              "2518     Male    10-20,000   20000\n",
              "15734    Male  125-150,000  150000\n",
              "429      Male    20-30,000   30000\n",
              "13034    Male    10-20,000   20000\n",
              "6568     Male  100-125,000  125000\n",
              "...       ...          ...     ...\n",
              "18096  Female     0-10,000   10000\n",
              "20664  Female    20-30,000   30000\n",
              "14649  Female     0-10,000   10000\n",
              "22041  Female    40-50,000   50000\n",
              "12552  Female     0-10,000   10000\n",
              "\n",
              "[500 rows x 3 columns]"
            ]
          },
          "metadata": {
            "tags": []
          },
          "execution_count": 13
        }
      ]
    },
    {
      "cell_type": "code",
      "metadata": {
        "colab": {
          "base_uri": "https://localhost:8080/",
          "height": 626
        },
        "id": "FwGu9A04lMtd",
        "outputId": "fbda8c04-0afa-42e4-ae59-bbddcb33b9fd"
      },
      "source": [
        "plt.figure(figsize=(18,10))\n",
        "plt.hist(final_samples['Q9'],bins=20,alpha=0.5,edgecolor='black', linewidth=1.2)\n",
        "\n",
        "plt.legend()"
      ],
      "execution_count": null,
      "outputs": [
        {
          "output_type": "stream",
          "text": [
            "No handles with labels found to put in legend.\n"
          ],
          "name": "stderr"
        },
        {
          "output_type": "execute_result",
          "data": {
            "text/plain": [
              "<matplotlib.legend.Legend at 0x7f9b46019f50>"
            ]
          },
          "metadata": {
            "tags": []
          },
          "execution_count": 16
        },
        {
          "output_type": "display_data",
          "data": {
            "image/png": "[encoded data removed]",
            "text/plain": [
              "<Figure size 1296x720 with 1 Axes>"
            ]
          },
          "metadata": {
            "tags": [],
            "needs_background": "light"
          }
        }
      ]
    },
    {
      "cell_type": "code",
      "metadata": {
        "colab": {
          "base_uri": "https://localhost:8080/",
          "height": 282
        },
        "id": "PM1gmpSLmS_9",
        "outputId": "c1245565-dcd8-4135-8477-3e202dad8914"
      },
      "source": [
        "mf_random = []\n",
        "clean_data['Avg_salary'] = clean_data['Q9'].apply(lambda value: dic[value])\n",
        "for temp in range(500):\n",
        "  m_index = clean_data[clean_data['Q1']=='Male'].index\n",
        "  m_samples = np.random.choice(m_index, 250, replace=False)\n",
        "  male = clean_data.loc[m_samples]\n",
        "  male_data = male['Avg_salary'].mean()\n",
        "  f_index = clean_data[clean_data['Q1']=='Female'].index\n",
        "  f_samples = np.random.choice(f_index, 250, replace=False)\n",
        "  female = clean_data.loc[f_samples]\n",
        "  female_data = female['Avg_salary'].mean()\n",
        "  mf_random.append(male_data-female_data)\n",
        "\n",
        "male_female = clean_data.groupby('Q1')\n",
        "male_avg = male_female.get_group('Male')['Avg_salary'].mean()\n",
        "female_avg = male_female.get_group('Female')['Avg_salary'].mean()\n",
        "avg_diff = male_avg - female_avg\n",
        "plt.hist(mf_random,bins=20, alpha=0.5,edgecolor='yellow',linewidth=1.2)\n",
        "plt.scatter(avg_diff,0,color='red',s=30,label='Average')\n",
        "plt.legend()"
      ],
      "execution_count": null,
      "outputs": [
        {
          "output_type": "execute_result",
          "data": {
            "text/plain": [
              "<matplotlib.legend.Legend at 0x7f9b460b17d0>"
            ]
          },
          "metadata": {
            "tags": []
          },
          "execution_count": 18
        },
        {
          "output_type": "display_data",
          "data": {
            "image/png": "[encoded data removed]",
            "text/plain": [
              "<Figure size 432x288 with 1 Axes>"
            ]
          },
          "metadata": {
            "tags": [],
            "needs_background": "light"
          }
        }
      ]
    }
  ]
}