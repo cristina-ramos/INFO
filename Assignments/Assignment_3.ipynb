{
  "nbformat": 4,
  "nbformat_minor": 0,
  "metadata": {
    "colab": {
      "name": "Assignment_3.ipynb",
      "provenance": [],
      "authorship_tag": "ABX9TyMJ4Iov4EpQROmDjQNsaWDR",
      "include_colab_link": true
    },
    "kernelspec": {
      "name": "python3",
      "display_name": "Python 3"
    }
  },
  "cells": [
    {
      "cell_type": "markdown",
      "metadata": {
        "id": "view-in-github",
        "colab_type": "text"
      },
      "source": [
        "<a href=\"https://colab.research.google.com/github/cristina-ramos/INFO/blob/main/Assignments/Assignment_3.ipynb\" target=\"_parent\"><img src=\"https://colab.research.google.com/assets/colab-badge.svg\" alt=\"Open In Colab\"/></a>"
      ]
    },
    {
      "cell_type": "code",
      "metadata": {
        "id": "inJAYIR7TdKi"
      },
      "source": [
        "import matplotlib.pyplot as plt\n",
        "import random\n",
        "import math"
      ],
      "execution_count": null,
      "outputs": []
    },
    {
      "cell_type": "code",
      "metadata": {
        "colab": {
          "base_uri": "https://localhost:8080/",
          "height": 316
        },
        "id": "17VeV8RETbnJ",
        "outputId": "fe5c088e-0631-44a7-9ec8-6fe0c5c30592"
      },
      "source": [
        "import numpy as np\n",
        "import matplotlib.pyplot as plt\n",
        "%matplotlib inline\n",
        "rect = plt.Rectangle((-1, -1), 2, 2, ec=\"black\", fill=False)\n",
        "circle = plt.Circle((0, 0), 1, ec=\"blue\", fill=False)\n",
        "plt.gca().add_patch(rect)\n",
        "plt.gca().add_patch(circle)\n",
        "import random\n",
        "inside = 0\n",
        "i=1\n",
        "n=int(input(\"Enter the total number of points: \"))\n",
        "while (i<=n):\n",
        "  x = random.random()\n",
        "  y = random.random()\n",
        "  if ((x**2)+(y**2))<=1:\n",
        "    inside+=1\n",
        "    plt.plot(x , y , 'go')\n",
        "  else:\n",
        "    plt.plot(x , y , 'ro')\n",
        "  i+=1\n",
        "pi=(4*inside)/n\n",
        "print (\"The value of pi is:\")\n",
        "print(pi)\n",
        "plt.show()"
      ],
      "execution_count": null,
      "outputs": [
        {
          "output_type": "stream",
          "text": [
            "Enter the total number of points: 10000\n",
            "The value of pi is:\n",
            "3.1288\n"
          ],
          "name": "stdout"
        },
        {
          "output_type": "display_data",
          "data": {
            "image/png": "[encoded data removed]",
            "text/plain": [
              "<Figure size 432x288 with 1 Axes>"
            ]
          },
          "metadata": {
            "tags": [],
            "needs_background": "light"
          }
        }
      ]
    }
  ]
}