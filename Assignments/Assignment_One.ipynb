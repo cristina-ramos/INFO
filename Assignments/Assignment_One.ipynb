{
  "nbformat": 4,
  "nbformat_minor": 0,
  "metadata": {
    "colab": {
      "name": "Assignment_One.ipynb",
      "provenance": [],
      "authorship_tag": "ABX9TyM2Ho77upDuV8cZ9jjqLCg/",
      "include_colab_link": true
    },
    "kernelspec": {
      "name": "python3",
      "display_name": "Python 3"
    }
  },
  "cells": [
    {
      "cell_type": "markdown",
      "metadata": {
        "id": "view-in-github",
        "colab_type": "text"
      },
      "source": [
        "<a href=\"https://colab.research.google.com/github/cristina-ramos/INFO/blob/main/Assignments/Assignment_One.ipynb\" target=\"_parent\"><img src=\"https://colab.research.google.com/assets/colab-badge.svg\" alt=\"Open In Colab\"/></a>"
      ]
    },
    {
      "cell_type": "code",
      "metadata": {
        "colab": {
          "base_uri": "https://localhost:8080/"
        },
        "id": "DigNDZuVZ8vd",
        "outputId": "69160be8-8f33-43d0-d25e-e7d9e85d726c"
      },
      "source": [
        "import nltk\n",
        "nltk.download('punkt')\n",
        "from nltk.corpus import PlaintextCorpusReader\n",
        "from nltk.tokenize import word_tokenize\n",
        "data = '/content/sample_data/frankie.txt'\n",
        "data_file = open(data, \"r\")\n",
        "content = data_file.read()\n",
        "print(len(content))\n",
        "five = content[530:1030]\n",
        "print(len(five))"
      ],
      "execution_count": null,
      "outputs": [
        {
          "output_type": "stream",
          "text": [
            "[nltk_data] Downloading package punkt to /root/nltk_data...\n",
            "[nltk_data]   Unzipping tokenizers/punkt.zip.\n",
            "438877\n",
            "500\n"
          ],
          "name": "stdout"
        }
      ]
    },
    {
      "cell_type": "code",
      "metadata": {
        "colab": {
          "base_uri": "https://localhost:8080/"
        },
        "id": "kp381jDdcZ5L",
        "outputId": "de47a578-9a0b-408c-804f-f7489abfc8ea"
      },
      "source": [
        "toks = word_tokenize(five)\n",
        "# print(toks)"
      ],
      "execution_count": null,
      "outputs": [
        {
          "output_type": "stream",
          "text": [
            "['Title', ':', 'Frankenstein', 'or', ',', 'The', 'Modern', 'Prometheus', 'Author', ':', 'Mary', 'Wollstonecraft', '(', 'Godwin', ')', 'Shelley', 'Release', 'Date', ':', '31', ',', '1993', '[', 'eBook', '#', '84', ']', '[', 'Most', 'recently', 'updated', ':', 'November', '13', ',', '2020', ']', 'Language', ':', 'English', 'Character', 'set', 'encoding', ':', 'UTF-8', 'Produced', 'by', ':', 'Judith', 'Boss', ',', 'Christy', 'Phillips', ',', 'Lynn', 'Hanninen', ',', 'and', 'David', 'Meltzer', '.', 'HTML', 'version', 'by', 'Al', 'Haines', '.', 'Further', 'corrections', 'by', 'Menno', 'de', 'Leeuw', '.', '***', 'START', 'OF', 'THE', 'PROJECT', 'GUTENBERG', 'EBOOK', 'FRANKENSTEIN', '***', 'Frankenstein', ';', 'or', ',', 'the', 'Modern', 'Prometheus', 'by', 'Mary', 'Wollstonecraf']\n"
          ],
          "name": "stdout"
        }
      ]
    },
    {
      "cell_type": "markdown",
      "metadata": {
        "id": "LToTz2PDWYPV"
      },
      "source": [
        "Bubble Sort Method:"
      ]
    },
    {
      "cell_type": "code",
      "metadata": {
        "id": "DffyeOtzov1q"
      },
      "source": [
        "def sorting_str(str):\n",
        "  swapped = True\n",
        "  while swapped:\n",
        "    swapped = False\n",
        "    for w in range(len(str) -1):\n",
        "      if str[w] > str[w + 1]:\n",
        "        str[w], str[w + 1] = str[w + 1], str[w]\n",
        "        swapped = True"
      ],
      "execution_count": null,
      "outputs": []
    },
    {
      "cell_type": "code",
      "metadata": {
        "colab": {
          "base_uri": "https://localhost:8080/"
        },
        "id": "Dw2ksa1NpGev",
        "outputId": "edb423ef-ae8e-48da-b668-7936d5adde30"
      },
      "source": [
        "#testing the sort function to make sure it works:\n",
        "random_list_of_str = ['the', 'and', 'emma', 'fancy', 'great']\n",
        "sorting_str(random_list_of_str)\n",
        "print(random_list_of_str)"
      ],
      "execution_count": null,
      "outputs": [
        {
          "output_type": "stream",
          "text": [
            "['and', 'emma', 'fancy', 'great', 'the']\n"
          ],
          "name": "stdout"
        }
      ]
    },
    {
      "cell_type": "code",
      "metadata": {
        "colab": {
          "base_uri": "https://localhost:8080/"
        },
        "id": "jT1H2B4Sctu7",
        "outputId": "04394a2d-16ef-43f3-b200-883aa890d351"
      },
      "source": [
        "sorting_str(toks)\n",
        "print(toks)"
      ],
      "execution_count": null,
      "outputs": [
        {
          "output_type": "stream",
          "text": [
            "['#', '(', ')', '***', '***', ',', ',', ',', ',', ',', ',', ',', '.', '.', '.', '13', '1993', '2020', '31', '84', ':', ':', ':', ':', ':', ':', ':', ';', 'Al', 'Author', 'Boss', 'Character', 'Christy', 'Date', 'David', 'EBOOK', 'English', 'FRANKENSTEIN', 'Frankenstein', 'Frankenstein', 'Further', 'GUTENBERG', 'Godwin', 'HTML', 'Haines', 'Hanninen', 'Judith', 'Language', 'Leeuw', 'Lynn', 'Mary', 'Mary', 'Meltzer', 'Menno', 'Modern', 'Modern', 'Most', 'November', 'OF', 'PROJECT', 'Phillips', 'Produced', 'Prometheus', 'Prometheus', 'Release', 'START', 'Shelley', 'THE', 'The', 'Title', 'UTF-8', 'Wollstonecraf', 'Wollstonecraft', '[', '[', ']', ']', 'and', 'by', 'by', 'by', 'by', 'corrections', 'de', 'eBook', 'encoding', 'or', 'or', 'recently', 'set', 'the', 'updated', 'version']\n"
          ],
          "name": "stdout"
        }
      ]
    },
    {
      "cell_type": "markdown",
      "metadata": {
        "id": "oBFBZY1_yj5H"
      },
      "source": [
        "# Test-Cases:"
      ]
    },
    {
      "cell_type": "markdown",
      "metadata": {
        "id": "9NZTbYAMywao"
      },
      "source": [
        "Frankenstein by Mary Shelley"
      ]
    },
    {
      "cell_type": "code",
      "metadata": {
        "colab": {
          "base_uri": "https://localhost:8080/",
          "height": 282
        },
        "id": "c-zn3U_xc2qT",
        "outputId": "8ea82ad1-9854-4b1d-f1aa-fe4a3e53f607"
      },
      "source": [
        "from matplotlib import pyplot as plt\n",
        "x = toks\n",
        "y = [len(i) for i in toks]\n",
        "# print(len(y))\n",
        "# print(len(x))\n",
        "plt.scatter(x, y)"
      ],
      "execution_count": null,
      "outputs": [
        {
          "output_type": "execute_result",
          "data": {
            "text/plain": [
              "<matplotlib.collections.PathCollection at 0x7f8c513a6710>"
            ]
          },
          "metadata": {
            "tags": []
          },
          "execution_count": 70
        },
        {
          "output_type": "display_data",
          "data": {
            "image/png": "[encoded data removed]",
            "text/plain": [
              "<Figure size 432x288 with 1 Axes>"
            ]
          },
          "metadata": {
            "tags": [],
            "needs_background": "light"
          }
        }
      ]
    },
    {
      "cell_type": "markdown",
      "metadata": {
        "id": "IzCDllqMyyP_"
      },
      "source": [
        "The Adventures of Sherlock Holmes by Arthur Conan Doyle"
      ]
    },
    {
      "cell_type": "code",
      "metadata": {
        "colab": {
          "base_uri": "https://localhost:8080/"
        },
        "id": "zRlGB4-Nymey",
        "outputId": "dafc850f-f288-4abf-b207-344bd89f807e"
      },
      "source": [
        "sh = open('/content/sample_data/sherlock.txt', 'r')\n",
        "sherlock = sh.read()\n",
        "sherlock_five = sherlock[1200:1700]\n",
        "print(len(sherlock_five))\n",
        "sh_toks = word_tokenize(sherlock_five)\n",
        "print(sh_toks)\n",
        "sorting_str(sh_toks)\n",
        "print(sh_toks)"
      ],
      "execution_count": null,
      "outputs": [
        {
          "output_type": "stream",
          "text": [
            "500\n",
            "['.', 'The', 'Adventure', 'of', 'the', 'Copper', 'Beeches', 'I', '.', 'A', 'SCANDAL', 'IN', 'BOHEMIA', 'I', '.', 'To', 'Sherlock', 'Holmes', 'she', 'is', 'always', '_the_', 'woman', '.', 'I', 'have', 'seldom', 'heard', 'him', 'mention', 'her', 'under', 'any', 'other', 'name', '.', 'In', 'his', 'eyes', 'she', 'eclipses', 'and', 'predominates', 'the', 'whole', 'of', 'her', 'sex', '.', 'It', 'was', 'not', 'that', 'he', 'felt', 'any', 'emotion', 'akin', 'to', 'love', 'for', 'Irene', 'Adler', '.', 'All', 'emotions', ',', 'and', 'that', 'one', 'particularly', ',', 'were', 'abhorrent', 'to', 'his', 'cold', ',', 'precise', 'but', 'admirably', 'balanced', 'mind', '.', 'He', 'was', ',', 'I', 'take', 'it', ',', 'the', 'most', 'perfect', 'reasoning', 'and', 'observing', 'machine', 'that', 'the', 'world', 'has']\n",
            "[',', ',', ',', ',', ',', '.', '.', '.', '.', '.', '.', '.', '.', 'A', 'Adler', 'Adventure', 'All', 'BOHEMIA', 'Beeches', 'Copper', 'He', 'Holmes', 'I', 'I', 'I', 'I', 'IN', 'In', 'Irene', 'It', 'SCANDAL', 'Sherlock', 'The', 'To', '_the_', 'abhorrent', 'admirably', 'akin', 'always', 'and', 'and', 'and', 'any', 'any', 'balanced', 'but', 'cold', 'eclipses', 'emotion', 'emotions', 'eyes', 'felt', 'for', 'has', 'have', 'he', 'heard', 'her', 'her', 'him', 'his', 'his', 'is', 'it', 'love', 'machine', 'mention', 'mind', 'most', 'name', 'not', 'observing', 'of', 'of', 'one', 'other', 'particularly', 'perfect', 'precise', 'predominates', 'reasoning', 'seldom', 'sex', 'she', 'she', 'take', 'that', 'that', 'that', 'the', 'the', 'the', 'the', 'to', 'to', 'under', 'was', 'was', 'were', 'whole', 'woman', 'world']\n"
          ],
          "name": "stdout"
        }
      ]
    },
    {
      "cell_type": "code",
      "metadata": {
        "colab": {
          "base_uri": "https://localhost:8080/",
          "height": 283
        },
        "id": "PwS1yuoW0ScH",
        "outputId": "0043c28c-a700-4576-cc68-50aded78b4a7"
      },
      "source": [
        "plt.scatter(sh_toks, [len(i) for i in sh_toks])"
      ],
      "execution_count": null,
      "outputs": [
        {
          "output_type": "execute_result",
          "data": {
            "text/plain": [
              "<matplotlib.collections.PathCollection at 0x7f8c512bac50>"
            ]
          },
          "metadata": {
            "tags": []
          },
          "execution_count": 89
        },
        {
          "output_type": "display_data",
          "data": {
            "image/png": "[encoded data removed]",
            "text/plain": [
              "<Figure size 432x288 with 1 Axes>"
            ]
          },
          "metadata": {
            "tags": [],
            "needs_background": "light"
          }
        }
      ]
    },
    {
      "cell_type": "markdown",
      "metadata": {
        "id": "2rsPT5fv0oCK"
      },
      "source": [
        "Walden by Henry David Thoreau"
      ]
    },
    {
      "cell_type": "code",
      "metadata": {
        "colab": {
          "base_uri": "https://localhost:8080/"
        },
        "id": "P4gsYQKt0nJZ",
        "outputId": "93aa50d6-8699-4cde-dde1-b2752dbeeb49"
      },
      "source": [
        "wh = open('/content/sample_data/walden.txt', 'r')\n",
        "walden = wh.read()\n",
        "walden_five = walden[1215:1715]\n",
        "print(len(walden_five))\n",
        "wh_toks = word_tokenize(walden_five)\n",
        "print(wh_toks)\n",
        "sorting_str(wh_toks)\n",
        "print(wh_toks)"
      ],
      "execution_count": null,
      "outputs": [
        {
          "output_type": "stream",
          "text": [
            "500\n",
            "['Economy', 'When', 'I', 'wrote', 'the', 'following', 'pages', ',', 'or', 'rather', 'the', 'bulk', 'of', 'them', ',', 'I', 'lived', 'alone', ',', 'in', 'the', 'woods', ',', 'a', 'mile', 'from', 'any', 'neighbor', ',', 'in', 'a', 'house', 'which', 'I', 'had', 'built', 'myself', ',', 'on', 'the', 'shore', 'of', 'Walden', 'Pond', ',', 'in', 'Concord', ',', 'Massachusetts', ',', 'and', 'earned', 'my', 'living', 'by', 'the', 'labor', 'of', 'my', 'hands', 'only', '.', 'I', 'lived', 'there', 'two', 'years', 'and', 'two', 'months', '.', 'At', 'present', 'I', 'am', 'a', 'sojourner', 'in', 'civilized', 'life', 'again', '.', 'I', 'should', 'not', 'obtrude', 'my', 'affairs', 'so', 'much', 'on', 'the', 'notice', 'of', 'my', 'readers', 'if', 'very', 'particular', 'inquiries', 'had', 'not', 'been', 'made', 'by', 'my', 'townsmen', 'con']\n",
            "[',', ',', ',', ',', ',', ',', ',', ',', ',', '.', '.', '.', 'At', 'Concord', 'Economy', 'I', 'I', 'I', 'I', 'I', 'I', 'Massachusetts', 'Pond', 'Walden', 'When', 'a', 'a', 'a', 'affairs', 'again', 'alone', 'am', 'and', 'and', 'any', 'been', 'built', 'bulk', 'by', 'by', 'civilized', 'con', 'earned', 'following', 'from', 'had', 'had', 'hands', 'house', 'if', 'in', 'in', 'in', 'in', 'inquiries', 'labor', 'life', 'lived', 'lived', 'living', 'made', 'mile', 'months', 'much', 'my', 'my', 'my', 'my', 'my', 'myself', 'neighbor', 'not', 'not', 'notice', 'obtrude', 'of', 'of', 'of', 'of', 'on', 'on', 'only', 'or', 'pages', 'particular', 'present', 'rather', 'readers', 'shore', 'should', 'so', 'sojourner', 'the', 'the', 'the', 'the', 'the', 'the', 'them', 'there', 'townsmen', 'two', 'two', 'very', 'which', 'woods', 'wrote', 'years']\n"
          ],
          "name": "stdout"
        }
      ]
    },
    {
      "cell_type": "code",
      "metadata": {
        "colab": {
          "base_uri": "https://localhost:8080/",
          "height": 282
        },
        "id": "pbz2Otjh1Jrx",
        "outputId": "dc30fd69-404c-4d8c-9745-49b72b26db30"
      },
      "source": [
        "plt.scatter(wh_toks, [len(i) for i in wh_toks])"
      ],
      "execution_count": null,
      "outputs": [
        {
          "output_type": "execute_result",
          "data": {
            "text/plain": [
              "<matplotlib.collections.PathCollection at 0x7f8c511e9fd0>"
            ]
          },
          "metadata": {
            "tags": []
          },
          "execution_count": 98
        },
        {
          "output_type": "display_data",
          "data": {
            "image/png": "[encoded data removed]",
            "text/plain": [
              "<Figure size 432x288 with 1 Axes>"
            ]
          },
          "metadata": {
            "tags": [],
            "needs_background": "light"
          }
        }
      ]
    },
    {
      "cell_type": "markdown",
      "metadata": {
        "id": "DM9-e0yn1S8D"
      },
      "source": [
        "Alice's Adventures in Wonderland by Lewis Carroll"
      ]
    },
    {
      "cell_type": "code",
      "metadata": {
        "colab": {
          "base_uri": "https://localhost:8080/"
        },
        "id": "AdQrdoTZ1Xpy",
        "outputId": "8031428f-44bc-4be8-d0fc-8575ecefcee8"
      },
      "source": [
        "aa = open('/content/sample_data/alice.txt', 'r')\n",
        "alice = aa.read()\n",
        "alice_five = alice[1410:1910]\n",
        "print(len(alice_five))\n",
        "aa_toks = word_tokenize(alice_five)\n",
        "print(aa_toks)\n",
        "sorting_str(aa_toks)\n",
        "print(aa_toks)"
      ],
      "execution_count": null,
      "outputs": [
        {
          "output_type": "stream",
          "text": [
            "500\n",
            "['II', '.', 'Alice', '’', 's', 'Evidence', 'CHAPTER', 'I', '.', 'Down', 'the', 'Rabbit-Hole', 'Alice', 'was', 'beginning', 'to', 'get', 'very', 'tired', 'of', 'sitting', 'by', 'her', 'sister', 'on', 'the', 'bank', ',', 'and', 'of', 'having', 'nothing', 'to', 'do', ':', 'once', 'or', 'twice', 'she', 'had', 'peeped', 'into', 'the', 'book', 'her', 'sister', 'was', 'reading', ',', 'but', 'it', 'had', 'no', 'pictures', 'or', 'conversations', 'in', 'it', ',', '“', 'and', 'what', 'is', 'the', 'use', 'of', 'a', 'book', ',', '”', 'thought', 'Alice', '“', 'without', 'pictures', 'or', 'conversations', '?', '”', 'So', 'she', 'was', 'considering', 'in', 'her', 'own', 'mind', '(', 'as', 'well', 'as', 'she', 'could', ',', 'for', 'the', 'hot', 'day', 'made', 'her', 'feel', 'very', 'sleepy', 'and', 'stupid', ')', ',', 'whether', 'the', 'pleasu']\n",
            "['(', ')', ',', ',', ',', ',', ',', ',', '.', '.', ':', '?', 'Alice', 'Alice', 'Alice', 'CHAPTER', 'Down', 'Evidence', 'I', 'II', 'Rabbit-Hole', 'So', 'a', 'and', 'and', 'and', 'as', 'as', 'bank', 'beginning', 'book', 'book', 'but', 'by', 'considering', 'conversations', 'conversations', 'could', 'day', 'do', 'feel', 'for', 'get', 'had', 'had', 'having', 'her', 'her', 'her', 'her', 'hot', 'in', 'in', 'into', 'is', 'it', 'it', 'made', 'mind', 'no', 'nothing', 'of', 'of', 'of', 'on', 'once', 'or', 'or', 'or', 'own', 'peeped', 'pictures', 'pictures', 'pleasu', 'reading', 's', 'she', 'she', 'she', 'sister', 'sister', 'sitting', 'sleepy', 'stupid', 'the', 'the', 'the', 'the', 'the', 'the', 'thought', 'tired', 'to', 'to', 'twice', 'use', 'very', 'very', 'was', 'was', 'was', 'well', 'what', 'whether', 'without', '’', '“', '“', '”', '”']\n"
          ],
          "name": "stdout"
        }
      ]
    },
    {
      "cell_type": "code",
      "metadata": {
        "colab": {
          "base_uri": "https://localhost:8080/",
          "height": 282
        },
        "id": "f-vrDPqh10Xk",
        "outputId": "fdc4e93f-a307-4aac-a7c0-3f827da5a6ac"
      },
      "source": [
        "plt.scatter(aa_toks, [len(i) for i in aa_toks])"
      ],
      "execution_count": null,
      "outputs": [
        {
          "output_type": "execute_result",
          "data": {
            "text/plain": [
              "<matplotlib.collections.PathCollection at 0x7f8c517224a8>"
            ]
          },
          "metadata": {
            "tags": []
          },
          "execution_count": 108
        },
        {
          "output_type": "display_data",
          "data": {
            "image/png": "[encoded data removed]",
            "text/plain": [
              "<Figure size 432x288 with 1 Axes>"
            ]
          },
          "metadata": {
            "tags": [],
            "needs_background": "light"
          }
        }
      ]
    },
    {
      "cell_type": "markdown",
      "metadata": {
        "id": "X7OJ9ZEA144B"
      },
      "source": [
        "Anthem by Ayn Rand"
      ]
    },
    {
      "cell_type": "code",
      "metadata": {
        "colab": {
          "base_uri": "https://localhost:8080/"
        },
        "id": "WCpwpOXv18sf",
        "outputId": "e7a72b9b-a622-47ef-b7f1-38aa0749cd51"
      },
      "source": [
        "an = open('/content/sample_data/anthem.txt', 'r')\n",
        "anthem = an.read()\n",
        "anthem_five = anthem[1080:1580]\n",
        "print(len(anthem_five))\n",
        "an_toks = word_tokenize(anthem_five)\n",
        "print(an_toks)\n",
        "sorting_str(an_toks)\n",
        "print(an_toks)"
      ],
      "execution_count": null,
      "outputs": [
        {
          "output_type": "stream",
          "text": [
            "500\n",
            "['PART', 'ONE', 'It', 'is', 'a', 'sin', 'to', 'write', 'this', '.', 'It', 'is', 'a', 'sin', 'to', 'think', 'words', 'no', 'others', 'think', 'and', 'to', 'put', 'them', 'down', 'upon', 'a', 'paper', 'no', 'others', 'are', 'to', 'see', '.', 'It', 'is', 'base', 'and', 'evil', '.', 'It', 'is', 'as', 'if', 'we', 'were', 'speaking', 'alone', 'to', 'no', 'ears', 'but', 'our', 'own', '.', 'And', 'we', 'know', 'well', 'that', 'there', 'is', 'no', 'transgression', 'blacker', 'than', 'to', 'do', 'or', 'think', 'alone', '.', 'We', 'have', 'broken', 'the', 'laws', '.', 'The', 'laws', 'say', 'that', 'men', 'may', 'not', 'write', 'unless', 'the', 'Council', 'of', 'Vocations', 'bid', 'them', 'so', '.', 'May', 'we', 'be', 'forgiven', '!', 'But', 'this', 'is', 'not', 'th']\n",
            "['!', '.', '.', '.', '.', '.', '.', '.', 'And', 'But', 'Council', 'It', 'It', 'It', 'It', 'May', 'ONE', 'PART', 'The', 'Vocations', 'We', 'a', 'a', 'a', 'alone', 'alone', 'and', 'and', 'are', 'as', 'base', 'be', 'bid', 'blacker', 'broken', 'but', 'do', 'down', 'ears', 'evil', 'forgiven', 'have', 'if', 'is', 'is', 'is', 'is', 'is', 'is', 'know', 'laws', 'laws', 'may', 'men', 'no', 'no', 'no', 'no', 'not', 'not', 'of', 'or', 'others', 'others', 'our', 'own', 'paper', 'put', 'say', 'see', 'sin', 'sin', 'so', 'speaking', 'th', 'than', 'that', 'that', 'the', 'the', 'them', 'them', 'there', 'think', 'think', 'think', 'this', 'this', 'to', 'to', 'to', 'to', 'to', 'to', 'transgression', 'unless', 'upon', 'we', 'we', 'we', 'well', 'were', 'words', 'write', 'write']\n"
          ],
          "name": "stdout"
        }
      ]
    },
    {
      "cell_type": "code",
      "metadata": {
        "colab": {
          "base_uri": "https://localhost:8080/",
          "height": 282
        },
        "id": "PbZ22ZW42csk",
        "outputId": "f2cdf4fa-aec5-4f97-9ca8-65cc2051b2cf"
      },
      "source": [
        "plt.scatter(an_toks, [len(i) for i in an_toks])"
      ],
      "execution_count": null,
      "outputs": [
        {
          "output_type": "execute_result",
          "data": {
            "text/plain": [
              "<matplotlib.collections.PathCollection at 0x7f8c515182e8>"
            ]
          },
          "metadata": {
            "tags": []
          },
          "execution_count": 121
        },
        {
          "output_type": "display_data",
          "data": {
            "image/png": "[encoded data removed]",
            "text/plain": [
              "<Figure size 432x288 with 1 Axes>"
            ]
          },
          "metadata": {
            "tags": [],
            "needs_background": "light"
          }
        }
      ]
    }
  ]
}