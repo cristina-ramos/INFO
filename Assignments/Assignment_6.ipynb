{
  "nbformat": 4,
  "nbformat_minor": 0,
  "metadata": {
    "colab": {
      "name": "Assignment_6.ipynb",
      "provenance": [],
      "collapsed_sections": [],
      "authorship_tag": "ABX9TyOTu9nbJf/CLUKLyyvd8ixO",
      "include_colab_link": true
    },
    "kernelspec": {
      "name": "python3",
      "display_name": "Python 3"
    },
    "language_info": {
      "name": "python"
    }
  },
  "cells": [
    {
      "cell_type": "markdown",
      "metadata": {
        "id": "view-in-github",
        "colab_type": "text"
      },
      "source": [
        "<a href=\"https://colab.research.google.com/github/cristina-ramos/INFO/blob/main/Assignments/Assignment_6.ipynb\" target=\"_parent\"><img src=\"https://colab.research.google.com/assets/colab-badge.svg\" alt=\"Open In Colab\"/></a>"
      ]
    },
    {
      "cell_type": "code",
      "metadata": {
        "id": "3LdhwB-R8HBG",
        "colab": {
          "base_uri": "https://localhost:8080/"
        },
        "outputId": "e7e37503-1ce1-4a46-951f-ff52a0f21564"
      },
      "source": [
        "import numpy as np\n",
        "from datascience import *\n",
        "import matplotlib\n",
        "%matplotlib inline\n",
        "import matplotlib.pyplot as plt"
      ],
      "execution_count": 1,
      "outputs": [
        {
          "output_type": "stream",
          "text": [
            "/usr/local/lib/python3.7/dist-packages/datascience/tables.py:17: MatplotlibDeprecationWarning: The 'warn' parameter of use() is deprecated since Matplotlib 3.1 and will be removed in 3.3.  If any parameter follows 'warn', they should be pass as keyword, not positionally.\n",
            "  matplotlib.use('agg', warn=False)\n",
            "/usr/local/lib/python3.7/dist-packages/datascience/util.py:10: MatplotlibDeprecationWarning: The 'warn' parameter of use() is deprecated since Matplotlib 3.1 and will be removed in 3.3.  If any parameter follows 'warn', they should be pass as keyword, not positionally.\n",
            "  matplotlib.use('agg', warn=False)\n"
          ],
          "name": "stderr"
        }
      ]
    },
    {
      "cell_type": "code",
      "metadata": {
        "colab": {
          "base_uri": "https://localhost:8080/",
          "height": 388
        },
        "id": "0otaJ6cY8gPi",
        "outputId": "3ed0264a-513c-4096-fcb7-aa1cb757c522"
      },
      "source": [
        "pop_restaurants = Table.read_table('/content/restaurant_inspection_scores.csv').drop(5,6)\n",
        "pop_restaurants"
      ],
      "execution_count": 3,
      "outputs": [
        {
          "output_type": "execute_result",
          "data": {
            "text/html": [
              "<table border=\"1\" class=\"dataframe\">\n",
              "    <thead>\n",
              "        <tr>\n",
              "            <th>Restaurant Name</th> <th>Zip Code</th> <th>Inspection Date</th> <th>Score</th> <th>Address</th>\n",
              "        </tr>\n",
              "    </thead>\n",
              "    <tbody>\n",
              "        <tr>\n",
              "            <td>6M Grocery     </td> <td>78652   </td> <td>01/17/2014     </td> <td>90   </td> <td>805 W FM 1626 RD\n",
              "AUSTIN, TX 78652\n",
              "     </td>\n",
              "        </tr>\n",
              "        <tr>\n",
              "            <td>6M Grocery     </td> <td>78652   </td> <td>04/27/2015     </td> <td>93   </td> <td>805 W FM 1626 RD\n",
              "AUSTIN, TX 78652\n",
              "     </td>\n",
              "        </tr>\n",
              "        <tr>\n",
              "            <td>6M Grocery     </td> <td>78652   </td> <td>05/02/2016     </td> <td>88   </td> <td>805 W FM 1626 RD\n",
              "AUSTIN, TX 78652\n",
              "     </td>\n",
              "        </tr>\n",
              "        <tr>\n",
              "            <td>6M Grocery     </td> <td>78652   </td> <td>07/25/2014     </td> <td>100  </td> <td>805 W FM 1626 RD\n",
              "AUSTIN, TX 78652\n",
              "     </td>\n",
              "        </tr>\n",
              "        <tr>\n",
              "            <td>6M Grocery     </td> <td>78652   </td> <td>10/21/2015     </td> <td>87   </td> <td>805 W FM 1626 RD\n",
              "AUSTIN, TX 78652\n",
              "     </td>\n",
              "        </tr>\n",
              "        <tr>\n",
              "            <td>6M Grocery     </td> <td>78652   </td> <td>12/15/2014     </td> <td>93   </td> <td>805 W FM 1626 RD\n",
              "AUSTIN, TX 78652\n",
              "     </td>\n",
              "        </tr>\n",
              "        <tr>\n",
              "            <td>7 Eleven #36575</td> <td>78660   </td> <td>01/25/2016     </td> <td>92   </td> <td>15829 N IH 35 SVRD NB\n",
              "AUSTIN, TX 78660\n",
              "</td>\n",
              "        </tr>\n",
              "        <tr>\n",
              "            <td>7 Eleven #36575</td> <td>78660   </td> <td>03/05/2015     </td> <td>86   </td> <td>15829 N IH 35 SVRD NB\n",
              "AUSTIN, TX 78660\n",
              "</td>\n",
              "        </tr>\n",
              "        <tr>\n",
              "            <td>7 Eleven #36575</td> <td>78660   </td> <td>03/14/2014     </td> <td>93   </td> <td>15829 N IH 35 SVRD NB\n",
              "AUSTIN, TX 78660\n",
              "</td>\n",
              "        </tr>\n",
              "        <tr>\n",
              "            <td>7 Eleven #36575</td> <td>78660   </td> <td>07/27/2015     </td> <td>97   </td> <td>15829 N IH 35 SVRD NB\n",
              "AUSTIN, TX 78660\n",
              "</td>\n",
              "        </tr>\n",
              "    </tbody>\n",
              "</table>\n",
              "<p>... (24357 rows omitted)</p>"
            ],
            "text/plain": [
              "Restaurant Name | Zip Code | Inspection Date | Score | Address\n",
              "6M Grocery      | 78652    | 01/17/2014      | 90    | 805 W FM 1626 RD\n",
              "AUSTIN, TX 78652\n",
              "6M Grocery      | 78652    | 04/27/2015      | 93    | 805 W FM 1626 RD\n",
              "AUSTIN, TX 78652\n",
              "6M Grocery      | 78652    | 05/02/2016      | 88    | 805 W FM 1626 RD\n",
              "AUSTIN, TX 78652\n",
              "6M Grocery      | 78652    | 07/25/2014      | 100   | 805 W FM 1626 RD\n",
              "AUSTIN, TX 78652\n",
              "6M Grocery      | 78652    | 10/21/2015      | 87    | 805 W FM 1626 RD\n",
              "AUSTIN, TX 78652\n",
              "6M Grocery      | 78652    | 12/15/2014      | 93    | 805 W FM 1626 RD\n",
              "AUSTIN, TX 78652\n",
              "7 Eleven #36575 | 78660    | 01/25/2016      | 92    | 15829 N IH 35 SVRD NB\n",
              "AUSTIN, TX 78660\n",
              "7 Eleven #36575 | 78660    | 03/05/2015      | 86    | 15829 N IH 35 SVRD NB\n",
              "AUSTIN, TX 78660\n",
              "7 Eleven #36575 | 78660    | 03/14/2014      | 93    | 15829 N IH 35 SVRD NB\n",
              "AUSTIN, TX 78660\n",
              "7 Eleven #36575 | 78660    | 07/27/2015      | 97    | 15829 N IH 35 SVRD NB\n",
              "AUSTIN, TX 78660\n",
              "... (24357 rows omitted)"
            ]
          },
          "metadata": {
            "tags": []
          },
          "execution_count": 3
        }
      ]
    },
    {
      "cell_type": "code",
      "metadata": {
        "colab": {
          "base_uri": "https://localhost:8080/"
        },
        "id": "1WtA5qml9VsN",
        "outputId": "4f7abe0b-a1d7-478a-de62-84efef21f3c4"
      },
      "source": [
        "pop_mean = np.mean(pop_restaurants.column(3))\n",
        "pop_mean"
      ],
      "execution_count": 5,
      "outputs": [
        {
          "output_type": "execute_result",
          "data": {
            "text/plain": [
              "91.40706693478886"
            ]
          },
          "metadata": {
            "tags": []
          },
          "execution_count": 5
        }
      ]
    },
    {
      "cell_type": "code",
      "metadata": {
        "colab": {
          "base_uri": "https://localhost:8080/",
          "height": 388
        },
        "id": "lA4kOnFS9q07",
        "outputId": "b82a529d-f32c-46c6-e842-6c0346a1a98a"
      },
      "source": [
        "restaurant_sample = pop_restaurants.sample(100, with_replacement=False)\n",
        "restaurant_sample"
      ],
      "execution_count": 6,
      "outputs": [
        {
          "output_type": "execute_result",
          "data": {
            "text/html": [
              "<table border=\"1\" class=\"dataframe\">\n",
              "    <thead>\n",
              "        <tr>\n",
              "            <th>Restaurant Name</th> <th>Zip Code</th> <th>Inspection Date</th> <th>Score</th> <th>Address</th>\n",
              "        </tr>\n",
              "    </thead>\n",
              "    <tbody>\n",
              "        <tr>\n",
              "            <td>China Kitchen            </td> <td>78723   </td> <td>01/05/2016     </td> <td>85   </td> <td>7112 ED BLUESTEIN BLVD SB Unit 180\n",
              "AUSTIN, TX 78723\n",
              "(30. ...</td>\n",
              "        </tr>\n",
              "        <tr>\n",
              "            <td>Estancia Churrascaria    </td> <td>78759   </td> <td>10/13/2016     </td> <td>91   </td> <td>10000 RESEARCH BLVD SB Unit B\n",
              "AUSTIN, TX 78759\n",
              "(30.39235 ...</td>\n",
              "        </tr>\n",
              "        <tr>\n",
              "            <td>Taco Cabana              </td> <td>78660   </td> <td>04/22/2015     </td> <td>82   </td> <td>15002 FM 1825 RD\n",
              "AUSTIN, TX 78660\n",
              "(30.442347, -97.665685)   </td>\n",
              "        </tr>\n",
              "        <tr>\n",
              "            <td>Corner Store #2103       </td> <td>78753   </td> <td>02/09/2015     </td> <td>93   </td> <td>11139 N IH 35 SVRD NB\n",
              "AUSTIN, TX 78753\n",
              "(30.376525, -97.6 ...</td>\n",
              "        </tr>\n",
              "        <tr>\n",
              "            <td>Arby's Roast Beef  #07400</td> <td>78753   </td> <td>08/06/2014     </td> <td>100  </td> <td>13609 N IH 35 SVRD NB\n",
              "AUSTIN, TX 78753\n",
              "(30.422931, -97.6 ...</td>\n",
              "        </tr>\n",
              "        <tr>\n",
              "            <td>Red Mango                </td> <td>78705   </td> <td>10/05/2015     </td> <td>94   </td> <td>2222 RIO GRANDE ST Bunit 120\n",
              "AUSTIN, TX 78705\n",
              "(30.286839 ...</td>\n",
              "        </tr>\n",
              "        <tr>\n",
              "            <td>Tropical Smoothie Cafe   </td> <td>78702   </td> <td>03/24/2015     </td> <td>84   </td> <td>3401 WEBBERVILLE RD\n",
              "AUSTIN, TX 78702\n",
              "(30.268401, -97.707223)</td>\n",
              "        </tr>\n",
              "        <tr>\n",
              "            <td>LW - Chicken Express     </td> <td>78734   </td> <td>03/28/2016     </td> <td>97   </td> <td>2109 S FM 620 RD\n",
              "LAKEWAY, TX 78734\n",
              "(30.342745, -97.967301)  </td>\n",
              "        </tr>\n",
              "        <tr>\n",
              "            <td>Domino's Pizza           </td> <td>78748   </td> <td>01/28/2014     </td> <td>86   </td> <td>1807 W SLAUGHTER LN Unit 465\n",
              "AUSTIN, TX 78748\n",
              "(30.173689 ...</td>\n",
              "        </tr>\n",
              "        <tr>\n",
              "            <td>Buca di Beppo            </td> <td>78759   </td> <td>06/01/2015     </td> <td>82   </td> <td>3600 TUDOR BLVD\n",
              "AUSTIN, TX 78759\n",
              "(30.384089, -97.736918)    </td>\n",
              "        </tr>\n",
              "    </tbody>\n",
              "</table>\n",
              "<p>... (90 rows omitted)</p>"
            ],
            "text/plain": [
              "Restaurant Name           | Zip Code | Inspection Date | Score | Address\n",
              "China Kitchen             | 78723    | 01/05/2016      | 85    | 7112 ED BLUESTEIN BLVD SB Unit 180\n",
              "AUSTIN, TX 78723\n",
              "(30. ...\n",
              "Estancia Churrascaria     | 78759    | 10/13/2016      | 91    | 10000 RESEARCH BLVD SB Unit B\n",
              "AUSTIN, TX 78759\n",
              "(30.39235 ...\n",
              "Taco Cabana               | 78660    | 04/22/2015      | 82    | 15002 FM 1825 RD\n",
              "AUSTIN, TX 78660\n",
              "(30.442347, -97.665685)\n",
              "Corner Store #2103        | 78753    | 02/09/2015      | 93    | 11139 N IH 35 SVRD NB\n",
              "AUSTIN, TX 78753\n",
              "(30.376525, -97.6 ...\n",
              "Arby's Roast Beef  #07400 | 78753    | 08/06/2014      | 100   | 13609 N IH 35 SVRD NB\n",
              "AUSTIN, TX 78753\n",
              "(30.422931, -97.6 ...\n",
              "Red Mango                 | 78705    | 10/05/2015      | 94    | 2222 RIO GRANDE ST Bunit 120\n",
              "AUSTIN, TX 78705\n",
              "(30.286839 ...\n",
              "Tropical Smoothie Cafe    | 78702    | 03/24/2015      | 84    | 3401 WEBBERVILLE RD\n",
              "AUSTIN, TX 78702\n",
              "(30.268401, -97.707223)\n",
              "LW - Chicken Express      | 78734    | 03/28/2016      | 97    | 2109 S FM 620 RD\n",
              "LAKEWAY, TX 78734\n",
              "(30.342745, -97.967301)\n",
              "Domino's Pizza            | 78748    | 01/28/2014      | 86    | 1807 W SLAUGHTER LN Unit 465\n",
              "AUSTIN, TX 78748\n",
              "(30.173689 ...\n",
              "Buca di Beppo             | 78759    | 06/01/2015      | 82    | 3600 TUDOR BLVD\n",
              "AUSTIN, TX 78759\n",
              "(30.384089, -97.736918)\n",
              "... (90 rows omitted)"
            ]
          },
          "metadata": {
            "tags": []
          },
          "execution_count": 6
        }
      ]
    },
    {
      "cell_type": "code",
      "metadata": {
        "colab": {
          "base_uri": "https://localhost:8080/"
        },
        "id": "dhIbQBg1-DVW",
        "outputId": "8dfd7656-7bd5-4362-cd43-e5395fe04c70"
      },
      "source": [
        "sample_mean = np.mean(restaurant_sample.column(3))\n",
        "sample_mean"
      ],
      "execution_count": 8,
      "outputs": [
        {
          "output_type": "execute_result",
          "data": {
            "text/plain": [
              "92.64"
            ]
          },
          "metadata": {
            "tags": []
          },
          "execution_count": 8
        }
      ]
    },
    {
      "cell_type": "code",
      "metadata": {
        "colab": {
          "base_uri": "https://localhost:8080/"
        },
        "id": "QsSf2PaEKHJ4",
        "outputId": "c8aefebd-ba2c-415a-8ffd-4eb04fd79553"
      },
      "source": [
        "def one_resampled_mean(data):\n",
        "  resampled_data = pop_restaurants.sample(100)\n",
        "  resampled_data = pop_restaurants.column('Score').mean()\n",
        "  return resampled_data\n",
        "\n",
        "one_resampled_mean(pop_restaurants)"
      ],
      "execution_count": 9,
      "outputs": [
        {
          "output_type": "execute_result",
          "data": {
            "text/plain": [
              "91.40706693478886"
            ]
          },
          "metadata": {
            "tags": []
          },
          "execution_count": 9
        }
      ]
    },
    {
      "cell_type": "code",
      "metadata": {
        "colab": {
          "base_uri": "https://localhost:8080/"
        },
        "id": "jRGeuXVF-M4B",
        "outputId": "a43d760d-153a-4446-aa5e-85a98f59507e"
      },
      "source": [
        "def bootstrap_scores():\n",
        "  resampled_means = make_array()\n",
        "  for i in range(5000):\n",
        "    resampled_mean = np.mean(restaurant_sample.sample().column(3))\n",
        "    resampled_means = np.append(resampled_means, resampled_mean)\n",
        "  return resampled_means\n",
        "\n",
        "resampled_means = bootstrap_scores()\n",
        "resampled_means"
      ],
      "execution_count": 10,
      "outputs": [
        {
          "output_type": "execute_result",
          "data": {
            "text/plain": [
              "array([92.08, 93.69, 93.12, ..., 92.84, 92.68, 93.34])"
            ]
          },
          "metadata": {
            "tags": []
          },
          "execution_count": 10
        }
      ]
    },
    {
      "cell_type": "code",
      "metadata": {
        "colab": {
          "base_uri": "https://localhost:8080/",
          "height": 284
        },
        "id": "xBVY0qVpcjCK",
        "outputId": "40a604b2-8e9c-4256-a01c-71cdafc4625d"
      },
      "source": [
        "Table().with_column('Resampled Means', resampled_means).hist()"
      ],
      "execution_count": 11,
      "outputs": [
        {
          "output_type": "display_data",
          "data": {
            "image/png": "[encoded data removed]",
            "text/plain": [
              "<Figure size 432x288 with 1 Axes>"
            ]
          },
          "metadata": {
            "tags": [],
            "needs_background": "light"
          }
        }
      ]
    },
    {
      "cell_type": "code",
      "metadata": {
        "colab": {
          "base_uri": "https://localhost:8080/"
        },
        "id": "zo2icY2eADUr",
        "outputId": "17247932-0689-4370-c93e-2997ca1b7273"
      },
      "source": [
        "lower_bound = percentile(2.5, resampled_means)\n",
        "upper_bound = percentile(97.5, resampled_means)\n",
        "print(\"95% confidence interval for the average restaurant score, computed by bootstrapping:\")\n",
        "print(lower_bound, upper_bound)"
      ],
      "execution_count": null,
      "outputs": [
        {
          "output_type": "stream",
          "text": [
            "95% confidence interval for the average restaurant score, computed by bootstrapping:\n",
            "89.44 92.6\n"
          ],
          "name": "stdout"
        }
      ]
    },
    {
      "cell_type": "code",
      "metadata": {
        "colab": {
          "base_uri": "https://localhost:8080/"
        },
        "id": "t-JRnylmAwAC",
        "outputId": "a74d568c-0f69-44ff-8ece-5507a6a6cca7"
      },
      "source": [
        "sample_sd = np.std(restaurant_sample.column(3))\n",
        "sample_size = restaurant_sample.num_rows\n",
        "mean_sd = sample_sd / sample_size**0.5\n",
        "lower_bound_normal = sample_mean - 2 * mean_sd\n",
        "upper_bound_normal = sample_mean + 2 * mean_sd\n",
        "print(\"95% confidence interval for the average restaurant score, computed by a normal approximation:\")\n",
        "print(lower_bound_normal, upper_bound_normal)"
      ],
      "execution_count": null,
      "outputs": [
        {
          "output_type": "stream",
          "text": [
            "95% confidence interval for the average restaurant score, computed by a normal approximation:\n",
            "89.38064739973528 92.67935260026472\n"
          ],
          "name": "stdout"
        }
      ]
    },
    {
      "cell_type": "code",
      "metadata": {
        "colab": {
          "base_uri": "https://localhost:8080/"
        },
        "id": "2cide56bL46U",
        "outputId": "ba481c71-67a1-49cf-ef29-b5d086d20a2a"
      },
      "source": [
        "def one_statistic_prop_heads(n):\n",
        "  coin_proportions = make_array(.5, .5)\n",
        "  simulated_proportions = sample_proportions(n, coin_proportions)\n",
        "  prop_heads = simulated_proportions.item(0)\n",
        "  return prop_heads\n",
        "\n",
        "one_statistic_prop_heads(10)"
      ],
      "execution_count": null,
      "outputs": [
        {
          "output_type": "execute_result",
          "data": {
            "text/plain": [
              "0.4"
            ]
          },
          "metadata": {
            "tags": []
          },
          "execution_count": 29
        }
      ]
    },
    {
      "cell_type": "code",
      "metadata": {
        "colab": {
          "base_uri": "https://localhost:8080/"
        },
        "id": "UeuKTVODFvbm",
        "outputId": "c88ea49e-14f9-488b-f12d-f95a3c428455"
      },
      "source": [
        "def sample_size_n(n):\n",
        "  coin_proportions = make_array(.5, .5)\n",
        "  heads_proportions = make_array()\n",
        "  for i in np.arange(5000):\n",
        "    simulated_proportions = sample_proportions(n, coin_proportions)\n",
        "    props_head = simulated_proportions.item(0)\n",
        "    heads_proportions = np.append(heads_proportions, props_head)\n",
        "  return heads_proportions\n",
        "\n",
        "sample_size_n(5)"
      ],
      "execution_count": null,
      "outputs": [
        {
          "output_type": "execute_result",
          "data": {
            "text/plain": [
              "array([0.2, 0.6, 0.2, ..., 0.4, 0.4, 0.4])"
            ]
          },
          "metadata": {
            "tags": []
          },
          "execution_count": 20
        }
      ]
    },
    {
      "cell_type": "code",
      "metadata": {
        "colab": {
          "base_uri": "https://localhost:8080/"
        },
        "id": "nt6qpHfcHRPK",
        "outputId": "de72f890-e540-48fa-c186-bc6a162fe2fb"
      },
      "source": [
        "united = Table.read_table('/content/united_summer2015.csv')\n",
        "united_std = np.std(united.column('Delay'))\n",
        "united_std"
      ],
      "execution_count": null,
      "outputs": [
        {
          "output_type": "execute_result",
          "data": {
            "text/plain": [
              "39.480199851609314"
            ]
          },
          "metadata": {
            "tags": []
          },
          "execution_count": 21
        }
      ]
    },
    {
      "cell_type": "code",
      "metadata": {
        "colab": {
          "base_uri": "https://localhost:8080/"
        },
        "id": "qd92yLxuG8n1",
        "outputId": "153f8cf0-20c8-4721-f0fc-c455a2d50b35"
      },
      "source": [
        "def empirical_sample_mean_sd(n):\n",
        "  sample_means = make_array()\n",
        "  for i in np.arange(500):\n",
        "    sample = united.sample(n).column('Delay')\n",
        "    sample_mean = np.mean(sample)\n",
        "    sample_means = np.append(sample_means, sample_mean)\n",
        "  return np.std(sample_means)\n",
        "\n",
        "empirical_sample_mean_sd(10)"
      ],
      "execution_count": null,
      "outputs": [
        {
          "output_type": "execute_result",
          "data": {
            "text/plain": [
              "13.402533408277705"
            ]
          },
          "metadata": {
            "tags": []
          },
          "execution_count": 22
        }
      ]
    },
    {
      "cell_type": "code",
      "metadata": {
        "colab": {
          "base_uri": "https://localhost:8080/"
        },
        "id": "EHEjUim-I-DY",
        "outputId": "f1b4ba0d-3a63-471b-cd16-91b92e9cfb17"
      },
      "source": [
        "def predict_sample_mean_sd(n):\n",
        "  return united_std / (n)**.5\n",
        "\n",
        "predict_sample_mean_sd(10)"
      ],
      "execution_count": null,
      "outputs": [
        {
          "output_type": "execute_result",
          "data": {
            "text/plain": [
              "12.484735400972708"
            ]
          },
          "metadata": {
            "tags": []
          },
          "execution_count": 23
        }
      ]
    }
  ]
}